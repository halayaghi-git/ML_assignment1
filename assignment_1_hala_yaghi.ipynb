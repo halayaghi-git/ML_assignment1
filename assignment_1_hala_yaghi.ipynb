{
 "cells": [
  {
   "cell_type": "markdown",
   "metadata": {},
   "source": [
    "Task 1: Data Loading and Initial Exploration"
   ]
  },
  {
   "cell_type": "code",
   "execution_count": 5,
   "metadata": {},
   "outputs": [
    {
     "data": {
      "text/html": [
       "<div>\n",
       "<style scoped>\n",
       "    .dataframe tbody tr th:only-of-type {\n",
       "        vertical-align: middle;\n",
       "    }\n",
       "\n",
       "    .dataframe tbody tr th {\n",
       "        vertical-align: top;\n",
       "    }\n",
       "\n",
       "    .dataframe thead th {\n",
       "        text-align: right;\n",
       "    }\n",
       "</style>\n",
       "<table border=\"1\" class=\"dataframe\">\n",
       "  <thead>\n",
       "    <tr style=\"text-align: right;\">\n",
       "      <th></th>\n",
       "      <th>pclass</th>\n",
       "      <th>survived</th>\n",
       "      <th>name</th>\n",
       "      <th>sex</th>\n",
       "      <th>age</th>\n",
       "      <th>sibsp</th>\n",
       "      <th>parch</th>\n",
       "      <th>ticket</th>\n",
       "      <th>fare</th>\n",
       "      <th>cabin</th>\n",
       "      <th>embarked</th>\n",
       "      <th>boat</th>\n",
       "      <th>body</th>\n",
       "      <th>home.dest</th>\n",
       "    </tr>\n",
       "  </thead>\n",
       "  <tbody>\n",
       "    <tr>\n",
       "      <th>0</th>\n",
       "      <td>1.0</td>\n",
       "      <td>1.0</td>\n",
       "      <td>Allen, Miss. Elisabeth Walton</td>\n",
       "      <td>female</td>\n",
       "      <td>29.0000</td>\n",
       "      <td>0.0</td>\n",
       "      <td>0.0</td>\n",
       "      <td>24160</td>\n",
       "      <td>211.3375</td>\n",
       "      <td>B5</td>\n",
       "      <td>S</td>\n",
       "      <td>2</td>\n",
       "      <td>NaN</td>\n",
       "      <td>St Louis, MO</td>\n",
       "    </tr>\n",
       "    <tr>\n",
       "      <th>1</th>\n",
       "      <td>1.0</td>\n",
       "      <td>1.0</td>\n",
       "      <td>Allison, Master. Hudson Trevor</td>\n",
       "      <td>male</td>\n",
       "      <td>0.9167</td>\n",
       "      <td>1.0</td>\n",
       "      <td>2.0</td>\n",
       "      <td>113781</td>\n",
       "      <td>151.5500</td>\n",
       "      <td>C22 C26</td>\n",
       "      <td>S</td>\n",
       "      <td>11</td>\n",
       "      <td>NaN</td>\n",
       "      <td>Montreal, PQ / Chesterville, ON</td>\n",
       "    </tr>\n",
       "    <tr>\n",
       "      <th>2</th>\n",
       "      <td>1.0</td>\n",
       "      <td>0.0</td>\n",
       "      <td>Allison, Miss. Helen Loraine</td>\n",
       "      <td>female</td>\n",
       "      <td>2.0000</td>\n",
       "      <td>1.0</td>\n",
       "      <td>2.0</td>\n",
       "      <td>113781</td>\n",
       "      <td>151.5500</td>\n",
       "      <td>C22 C26</td>\n",
       "      <td>S</td>\n",
       "      <td>NaN</td>\n",
       "      <td>NaN</td>\n",
       "      <td>Montreal, PQ / Chesterville, ON</td>\n",
       "    </tr>\n",
       "    <tr>\n",
       "      <th>3</th>\n",
       "      <td>1.0</td>\n",
       "      <td>0.0</td>\n",
       "      <td>Allison, Mr. Hudson Joshua Creighton</td>\n",
       "      <td>male</td>\n",
       "      <td>30.0000</td>\n",
       "      <td>1.0</td>\n",
       "      <td>2.0</td>\n",
       "      <td>113781</td>\n",
       "      <td>151.5500</td>\n",
       "      <td>C22 C26</td>\n",
       "      <td>S</td>\n",
       "      <td>NaN</td>\n",
       "      <td>135.0</td>\n",
       "      <td>Montreal, PQ / Chesterville, ON</td>\n",
       "    </tr>\n",
       "    <tr>\n",
       "      <th>4</th>\n",
       "      <td>1.0</td>\n",
       "      <td>0.0</td>\n",
       "      <td>Allison, Mrs. Hudson J C (Bessie Waldo Daniels)</td>\n",
       "      <td>female</td>\n",
       "      <td>25.0000</td>\n",
       "      <td>1.0</td>\n",
       "      <td>2.0</td>\n",
       "      <td>113781</td>\n",
       "      <td>151.5500</td>\n",
       "      <td>C22 C26</td>\n",
       "      <td>S</td>\n",
       "      <td>NaN</td>\n",
       "      <td>NaN</td>\n",
       "      <td>Montreal, PQ / Chesterville, ON</td>\n",
       "    </tr>\n",
       "  </tbody>\n",
       "</table>\n",
       "</div>"
      ],
      "text/plain": [
       "   pclass  survived                                             name     sex  \\\n",
       "0     1.0       1.0                    Allen, Miss. Elisabeth Walton  female   \n",
       "1     1.0       1.0                   Allison, Master. Hudson Trevor    male   \n",
       "2     1.0       0.0                     Allison, Miss. Helen Loraine  female   \n",
       "3     1.0       0.0             Allison, Mr. Hudson Joshua Creighton    male   \n",
       "4     1.0       0.0  Allison, Mrs. Hudson J C (Bessie Waldo Daniels)  female   \n",
       "\n",
       "       age  sibsp  parch  ticket      fare    cabin embarked boat   body  \\\n",
       "0  29.0000    0.0    0.0   24160  211.3375       B5        S    2    NaN   \n",
       "1   0.9167    1.0    2.0  113781  151.5500  C22 C26        S   11    NaN   \n",
       "2   2.0000    1.0    2.0  113781  151.5500  C22 C26        S  NaN    NaN   \n",
       "3  30.0000    1.0    2.0  113781  151.5500  C22 C26        S  NaN  135.0   \n",
       "4  25.0000    1.0    2.0  113781  151.5500  C22 C26        S  NaN    NaN   \n",
       "\n",
       "                         home.dest  \n",
       "0                     St Louis, MO  \n",
       "1  Montreal, PQ / Chesterville, ON  \n",
       "2  Montreal, PQ / Chesterville, ON  \n",
       "3  Montreal, PQ / Chesterville, ON  \n",
       "4  Montreal, PQ / Chesterville, ON  "
      ]
     },
     "execution_count": 5,
     "metadata": {},
     "output_type": "execute_result"
    }
   ],
   "source": [
    "import pandas as pd\n",
    "\n",
    "df = pd.read_csv('titanic3.csv')\n",
    "\n",
    "df.head()\n"
   ]
  },
  {
   "cell_type": "markdown",
   "metadata": {},
   "source": [
    "Performing EDA"
   ]
  },
  {
   "cell_type": "code",
   "execution_count": 5,
   "metadata": {},
   "outputs": [
    {
     "name": "stdout",
     "output_type": "stream",
     "text": [
      "<class 'pandas.core.frame.DataFrame'>\n",
      "RangeIndex: 1309 entries, 0 to 1308\n",
      "Data columns (total 14 columns):\n",
      " #   Column     Non-Null Count  Dtype  \n",
      "---  ------     --------------  -----  \n",
      " 0   pclass     1309 non-null   float64\n",
      " 1   survived   1309 non-null   float64\n",
      " 2   name       1309 non-null   object \n",
      " 3   sex        1309 non-null   object \n",
      " 4   age        1309 non-null   float64\n",
      " 5   sibsp      1309 non-null   float64\n",
      " 6   parch      1309 non-null   float64\n",
      " 7   ticket     1309 non-null   object \n",
      " 8   fare       1309 non-null   float64\n",
      " 9   cabin      1309 non-null   object \n",
      " 10  embarked   1307 non-null   object \n",
      " 11  boat       1309 non-null   object \n",
      " 12  body       1309 non-null   float64\n",
      " 13  home.dest  1309 non-null   object \n",
      "dtypes: float64(7), object(7)\n",
      "memory usage: 143.3+ KB\n"
     ]
    }
   ],
   "source": [
    "df.info()"
   ]
  },
  {
   "cell_type": "markdown",
   "metadata": {},
   "source": [
    "Descriptive Statistics"
   ]
  },
  {
   "cell_type": "code",
   "execution_count": 6,
   "metadata": {},
   "outputs": [
    {
     "name": "stdout",
     "output_type": "stream",
     "text": [
      "Descriptive Statistics:\n",
      "            pclass     survived          age        sibsp        parch  \\\n",
      "count  1309.000000  1309.000000  1309.000000  1309.000000  1309.000000   \n",
      "mean      2.294882     0.381971    29.881135     0.498854     0.385027   \n",
      "std       0.837836     0.486055    12.883199     1.041658     0.865560   \n",
      "min       1.000000     0.000000     0.166700     0.000000     0.000000   \n",
      "25%       2.000000     0.000000    22.000000     0.000000     0.000000   \n",
      "50%       3.000000     0.000000    29.881135     0.000000     0.000000   \n",
      "75%       3.000000     1.000000    35.000000     1.000000     0.000000   \n",
      "max       3.000000     1.000000    80.000000     8.000000     9.000000   \n",
      "\n",
      "              fare         body  \n",
      "count  1309.000000  1309.000000  \n",
      "mean     33.295479    13.957219  \n",
      "std      51.738879    55.442283  \n",
      "min       0.000000    -1.000000  \n",
      "25%       7.895800    -1.000000  \n",
      "50%      14.454200    -1.000000  \n",
      "75%      31.275000    -1.000000  \n",
      "max     512.329200   328.000000  \n"
     ]
    }
   ],
   "source": [
    "descriptive_stats = df.describe()\n",
    "print(\"Descriptive Statistics:\")\n",
    "print(descriptive_stats)\n"
   ]
  },
  {
   "cell_type": "markdown",
   "metadata": {},
   "source": [
    "Shape"
   ]
  },
  {
   "cell_type": "code",
   "execution_count": 6,
   "metadata": {},
   "outputs": [
    {
     "name": "stdout",
     "output_type": "stream",
     "text": [
      "Dataset Shape: 1310 rows and 14 columns\n",
      "\n"
     ]
    }
   ],
   "source": [
    "print(f\"Dataset Shape: {df.shape[0]} rows and {df.shape[1]} columns\\n\")\n"
   ]
  },
  {
   "cell_type": "markdown",
   "metadata": {},
   "source": [
    "Data types, numerical/categorical"
   ]
  },
  {
   "cell_type": "code",
   "execution_count": 7,
   "metadata": {},
   "outputs": [
    {
     "name": "stdout",
     "output_type": "stream",
     "text": [
      "Data Types:\n",
      "pclass       float64\n",
      "survived     float64\n",
      "name          object\n",
      "sex           object\n",
      "age          float64\n",
      "sibsp        float64\n",
      "parch        float64\n",
      "ticket        object\n",
      "fare         float64\n",
      "cabin         object\n",
      "embarked      object\n",
      "boat          object\n",
      "body         float64\n",
      "home.dest     object\n",
      "dtype: object\n",
      "\n",
      "\n"
     ]
    }
   ],
   "source": [
    "print(\"Data Types:\")\n",
    "print(df.dtypes)\n",
    "print(\"\\n\")"
   ]
  },
  {
   "cell_type": "code",
   "execution_count": 4,
   "metadata": {},
   "outputs": [
    {
     "name": "stdout",
     "output_type": "stream",
     "text": [
      "Number of duplicate rows: 0\n"
     ]
    }
   ],
   "source": [
    "duplicates = df.duplicated().sum()\n",
    "print(f\"Number of duplicate rows: {duplicates}\")"
   ]
  },
  {
   "cell_type": "markdown",
   "metadata": {},
   "source": [
    "Visualizing (to get a better understanding of the statistical data)"
   ]
  },
  {
   "cell_type": "code",
   "execution_count": 2,
   "metadata": {},
   "outputs": [
    {
     "name": "stdout",
     "output_type": "stream",
     "text": [
      "['Solarize_Light2', '_classic_test_patch', '_mpl-gallery', '_mpl-gallery-nogrid', 'bmh', 'classic', 'dark_background', 'fast', 'fivethirtyeight', 'ggplot', 'grayscale', 'petroff10', 'seaborn-v0_8', 'seaborn-v0_8-bright', 'seaborn-v0_8-colorblind', 'seaborn-v0_8-dark', 'seaborn-v0_8-dark-palette', 'seaborn-v0_8-darkgrid', 'seaborn-v0_8-deep', 'seaborn-v0_8-muted', 'seaborn-v0_8-notebook', 'seaborn-v0_8-paper', 'seaborn-v0_8-pastel', 'seaborn-v0_8-poster', 'seaborn-v0_8-talk', 'seaborn-v0_8-ticks', 'seaborn-v0_8-white', 'seaborn-v0_8-whitegrid', 'tableau-colorblind10']\n"
     ]
    }
   ],
   "source": [
    "import matplotlib.pyplot as plt\n",
    "\n",
    "# Print available styles\n",
    "print(plt.style.available)"
   ]
  },
  {
   "cell_type": "code",
   "execution_count": 5,
   "metadata": {},
   "outputs": [
    {
     "data": {
      "image/png": "[encoded data removed]",
      "text/plain": [
       "<Figure size 800x500 with 1 Axes>"
      ]
     },
     "metadata": {},
     "output_type": "display_data"
    },
    {
     "data": {
      "image/png": "[encoded data removed]",
      "text/plain": [
       "<Figure size 800x500 with 1 Axes>"
      ]
     },
     "metadata": {},
     "output_type": "display_data"
    }
   ],
   "source": [
    "# visualizing the data\n",
    "# graph to understand the distribution of the data\n",
    "# boxplot to understand the outliers to determine which values are the most significant regarding my model\n",
    "import pandas as pd\n",
    "import matplotlib.pyplot as plt\n",
    "import seaborn as sns\n",
    "# since the data is not normally distributed, I will use the boxplot to understand the outliers\n",
    "# i understood that it is not normally distributed because the data is not symmetric and the median is not the same as the mean\n",
    "plt.style.use('seaborn-v0_8')  # Using the seaborn style variant\n",
    "\n",
    "# Now you can continue with your plotting\n",
    "# Example plot (replace with your actual data)\n",
    "df = pd.read_csv('titanic3.csv')  # Ensure you have your DataFrame loaded\n",
    "\n",
    "# Boxplot for 'Fare'\n",
    "plt.figure(figsize=(8, 5))\n",
    "sns.boxplot(x=df[\"fare\"])\n",
    "plt.title(\"Boxplot of Fare\")\n",
    "plt.show()\n",
    "\n",
    "# Boxplot for 'Age'\n",
    "plt.figure(figsize=(8, 5))\n",
    "sns.boxplot(x=df[\"age\"])\n",
    "plt.title(\"Boxplot of Age\")\n",
    "plt.show()"
   ]
  },
  {
   "cell_type": "code",
   "execution_count": 9,
   "metadata": {},
   "outputs": [],
   "source": [
    "# accoring to the outputs of the boxplot:\n",
    "# fare: the boxplot is right skewed, and this tells us that there are some outliers in the data\n",
    "# age: the boxplot is left skewed, and this tells us that there are some outliers in the data\n",
    "# this is important because it will affect the accuracy of my model since the data is not fully clean or tidy"
   ]
  },
  {
   "cell_type": "markdown",
   "metadata": {},
   "source": [
    "TASK 2: Managing Missing Values"
   ]
  },
  {
   "cell_type": "code",
   "execution_count": 11,
   "metadata": {},
   "outputs": [
    {
     "name": "stdout",
     "output_type": "stream",
     "text": [
      "pclass          1\n",
      "survived        1\n",
      "name            1\n",
      "sex             1\n",
      "age           264\n",
      "sibsp           1\n",
      "parch           1\n",
      "ticket          1\n",
      "fare            2\n",
      "cabin        1015\n",
      "embarked        3\n",
      "boat          824\n",
      "body         1189\n",
      "home.dest     565\n",
      "dtype: int64\n"
     ]
    }
   ],
   "source": [
    "# Check for missing values in each column\n",
    "missing_values = df.isnull().sum()\n",
    "\n",
    "# Filter columns with missing values\n",
    "missing_values = missing_values[missing_values > 0]\n",
    "\n",
    "# Display columns with missing values\n",
    "print(missing_values)\n"
   ]
  },
  {
   "cell_type": "markdown",
   "metadata": {},
   "source": [
    "1. Replace with mean, age is continuous, and fare only has a few missing values"
   ]
  },
  {
   "cell_type": "code",
   "execution_count": 12,
   "metadata": {},
   "outputs": [
    {
     "name": "stderr",
     "output_type": "stream",
     "text": [
      "C:\\Users\\halay\\AppData\\Local\\Temp\\ipykernel_21328\\883390424.py:1: FutureWarning: A value is trying to be set on a copy of a DataFrame or Series through chained assignment using an inplace method.\n",
      "The behavior will change in pandas 3.0. This inplace method will never work because the intermediate object on which we are setting values always behaves as a copy.\n",
      "\n",
      "For example, when doing 'df[col].method(value, inplace=True)', try using 'df.method({col: value}, inplace=True)' or df[col] = df[col].method(value) instead, to perform the operation inplace on the original object.\n",
      "\n",
      "\n",
      "  df['age'].fillna(df['age'].mean(), inplace=True)\n",
      "C:\\Users\\halay\\AppData\\Local\\Temp\\ipykernel_21328\\883390424.py:2: FutureWarning: A value is trying to be set on a copy of a DataFrame or Series through chained assignment using an inplace method.\n",
      "The behavior will change in pandas 3.0. This inplace method will never work because the intermediate object on which we are setting values always behaves as a copy.\n",
      "\n",
      "For example, when doing 'df[col].method(value, inplace=True)', try using 'df.method({col: value}, inplace=True)' or df[col] = df[col].method(value) instead, to perform the operation inplace on the original object.\n",
      "\n",
      "\n",
      "  df['fare'].fillna(df['fare'].mean(), inplace=True)\n"
     ]
    }
   ],
   "source": [
    "df['age'].fillna(df['age'].mean(), inplace=True)\n",
    "df['fare'].fillna(df['fare'].mean(), inplace=True)"
   ]
  },
  {
   "cell_type": "markdown",
   "metadata": {},
   "source": [
    "2. Replacing with -1, or unknown to avoid assumpptions, or fill in missign patters (for home for ex.)"
   ]
  },
  {
   "cell_type": "code",
   "execution_count": 13,
   "metadata": {},
   "outputs": [
    {
     "name": "stderr",
     "output_type": "stream",
     "text": [
      "C:\\Users\\halay\\AppData\\Local\\Temp\\ipykernel_21328\\1475066345.py:1: FutureWarning: A value is trying to be set on a copy of a DataFrame or Series through chained assignment using an inplace method.\n",
      "The behavior will change in pandas 3.0. This inplace method will never work because the intermediate object on which we are setting values always behaves as a copy.\n",
      "\n",
      "For example, when doing 'df[col].method(value, inplace=True)', try using 'df.method({col: value}, inplace=True)' or df[col] = df[col].method(value) instead, to perform the operation inplace on the original object.\n",
      "\n",
      "\n",
      "  df['sex'].fillna(\"Unknown\", inplace=True)\n",
      "C:\\Users\\halay\\AppData\\Local\\Temp\\ipykernel_21328\\1475066345.py:2: FutureWarning: A value is trying to be set on a copy of a DataFrame or Series through chained assignment using an inplace method.\n",
      "The behavior will change in pandas 3.0. This inplace method will never work because the intermediate object on which we are setting values always behaves as a copy.\n",
      "\n",
      "For example, when doing 'df[col].method(value, inplace=True)', try using 'df.method({col: value}, inplace=True)' or df[col] = df[col].method(value) instead, to perform the operation inplace on the original object.\n",
      "\n",
      "\n",
      "  df['cabin'].fillna(\"Unknown\", inplace=True)\n",
      "C:\\Users\\halay\\AppData\\Local\\Temp\\ipykernel_21328\\1475066345.py:3: FutureWarning: A value is trying to be set on a copy of a DataFrame or Series through chained assignment using an inplace method.\n",
      "The behavior will change in pandas 3.0. This inplace method will never work because the intermediate object on which we are setting values always behaves as a copy.\n",
      "\n",
      "For example, when doing 'df[col].method(value, inplace=True)', try using 'df.method({col: value}, inplace=True)' or df[col] = df[col].method(value) instead, to perform the operation inplace on the original object.\n",
      "\n",
      "\n",
      "  df['boat'].fillna(-1, inplace=True)\n",
      "C:\\Users\\halay\\AppData\\Local\\Temp\\ipykernel_21328\\1475066345.py:4: FutureWarning: A value is trying to be set on a copy of a DataFrame or Series through chained assignment using an inplace method.\n",
      "The behavior will change in pandas 3.0. This inplace method will never work because the intermediate object on which we are setting values always behaves as a copy.\n",
      "\n",
      "For example, when doing 'df[col].method(value, inplace=True)', try using 'df.method({col: value}, inplace=True)' or df[col] = df[col].method(value) instead, to perform the operation inplace on the original object.\n",
      "\n",
      "\n",
      "  df['body'].fillna(-1, inplace=True)\n",
      "C:\\Users\\halay\\AppData\\Local\\Temp\\ipykernel_21328\\1475066345.py:5: FutureWarning: A value is trying to be set on a copy of a DataFrame or Series through chained assignment using an inplace method.\n",
      "The behavior will change in pandas 3.0. This inplace method will never work because the intermediate object on which we are setting values always behaves as a copy.\n",
      "\n",
      "For example, when doing 'df[col].method(value, inplace=True)', try using 'df.method({col: value}, inplace=True)' or df[col] = df[col].method(value) instead, to perform the operation inplace on the original object.\n",
      "\n",
      "\n",
      "  df['home.dest'].fillna(\"Unknown\", inplace=True)\n"
     ]
    }
   ],
   "source": [
    "df['sex'].fillna(\"Unknown\", inplace=True)\n",
    "df['cabin'].fillna(\"Unknown\", inplace=True)\n",
    "df['boat'].fillna(-1, inplace=True)\n",
    "df['body'].fillna(-1, inplace=True)\n",
    "df['home.dest'].fillna(\"Unknown\", inplace=True)"
   ]
  },
  {
   "cell_type": "markdown",
   "metadata": {},
   "source": [
    "3. Replacing with most frequent value since it only has a few missing values and is categorical"
   ]
  },
  {
   "cell_type": "code",
   "execution_count": null,
   "metadata": {},
   "outputs": [],
   "source": [
    "df['embarked'].fillna(df['embarked'].mode()[0], inplace=True)"
   ]
  },
  {
   "cell_type": "markdown",
   "metadata": {},
   "source": [
    "4. Removing rows with very few missing values (no major difference)"
   ]
  },
  {
   "cell_type": "code",
   "execution_count": 14,
   "metadata": {},
   "outputs": [],
   "source": [
    "df.dropna(subset=['pclass', 'survived', 'name', 'sibsp', 'parch', 'ticket'], inplace=True)"
   ]
  },
  {
   "cell_type": "markdown",
   "metadata": {},
   "source": [
    "Dataset without missing values"
   ]
  },
  {
   "cell_type": "code",
   "execution_count": 15,
   "metadata": {},
   "outputs": [],
   "source": [
    "df.to_csv(\"titanic_new.csv\", index=False)\n"
   ]
  },
  {
   "cell_type": "code",
   "execution_count": 1,
   "metadata": {},
   "outputs": [
    {
     "data": {
      "text/html": [
       "<div>\n",
       "<style scoped>\n",
       "    .dataframe tbody tr th:only-of-type {\n",
       "        vertical-align: middle;\n",
       "    }\n",
       "\n",
       "    .dataframe tbody tr th {\n",
       "        vertical-align: top;\n",
       "    }\n",
       "\n",
       "    .dataframe thead th {\n",
       "        text-align: right;\n",
       "    }\n",
       "</style>\n",
       "<table border=\"1\" class=\"dataframe\">\n",
       "  <thead>\n",
       "    <tr style=\"text-align: right;\">\n",
       "      <th></th>\n",
       "      <th>pclass</th>\n",
       "      <th>survived</th>\n",
       "      <th>name</th>\n",
       "      <th>sex</th>\n",
       "      <th>age</th>\n",
       "      <th>sibsp</th>\n",
       "      <th>parch</th>\n",
       "      <th>ticket</th>\n",
       "      <th>fare</th>\n",
       "      <th>cabin</th>\n",
       "      <th>embarked</th>\n",
       "      <th>boat</th>\n",
       "      <th>body</th>\n",
       "      <th>home.dest</th>\n",
       "    </tr>\n",
       "  </thead>\n",
       "  <tbody>\n",
       "    <tr>\n",
       "      <th>0</th>\n",
       "      <td>1.0</td>\n",
       "      <td>1.0</td>\n",
       "      <td>Allen, Miss. Elisabeth Walton</td>\n",
       "      <td>female</td>\n",
       "      <td>29.0000</td>\n",
       "      <td>0.0</td>\n",
       "      <td>0.0</td>\n",
       "      <td>24160</td>\n",
       "      <td>211.3375</td>\n",
       "      <td>B5</td>\n",
       "      <td>S</td>\n",
       "      <td>2</td>\n",
       "      <td>-1.0</td>\n",
       "      <td>St Louis, MO</td>\n",
       "    </tr>\n",
       "    <tr>\n",
       "      <th>1</th>\n",
       "      <td>1.0</td>\n",
       "      <td>1.0</td>\n",
       "      <td>Allison, Master. Hudson Trevor</td>\n",
       "      <td>male</td>\n",
       "      <td>0.9167</td>\n",
       "      <td>1.0</td>\n",
       "      <td>2.0</td>\n",
       "      <td>113781</td>\n",
       "      <td>151.5500</td>\n",
       "      <td>C22 C26</td>\n",
       "      <td>S</td>\n",
       "      <td>11</td>\n",
       "      <td>-1.0</td>\n",
       "      <td>Montreal, PQ / Chesterville, ON</td>\n",
       "    </tr>\n",
       "    <tr>\n",
       "      <th>2</th>\n",
       "      <td>1.0</td>\n",
       "      <td>0.0</td>\n",
       "      <td>Allison, Miss. Helen Loraine</td>\n",
       "      <td>female</td>\n",
       "      <td>2.0000</td>\n",
       "      <td>1.0</td>\n",
       "      <td>2.0</td>\n",
       "      <td>113781</td>\n",
       "      <td>151.5500</td>\n",
       "      <td>C22 C26</td>\n",
       "      <td>S</td>\n",
       "      <td>-1</td>\n",
       "      <td>-1.0</td>\n",
       "      <td>Montreal, PQ / Chesterville, ON</td>\n",
       "    </tr>\n",
       "    <tr>\n",
       "      <th>3</th>\n",
       "      <td>1.0</td>\n",
       "      <td>0.0</td>\n",
       "      <td>Allison, Mr. Hudson Joshua Creighton</td>\n",
       "      <td>male</td>\n",
       "      <td>30.0000</td>\n",
       "      <td>1.0</td>\n",
       "      <td>2.0</td>\n",
       "      <td>113781</td>\n",
       "      <td>151.5500</td>\n",
       "      <td>C22 C26</td>\n",
       "      <td>S</td>\n",
       "      <td>-1</td>\n",
       "      <td>135.0</td>\n",
       "      <td>Montreal, PQ / Chesterville, ON</td>\n",
       "    </tr>\n",
       "    <tr>\n",
       "      <th>4</th>\n",
       "      <td>1.0</td>\n",
       "      <td>0.0</td>\n",
       "      <td>Allison, Mrs. Hudson J C (Bessie Waldo Daniels)</td>\n",
       "      <td>female</td>\n",
       "      <td>25.0000</td>\n",
       "      <td>1.0</td>\n",
       "      <td>2.0</td>\n",
       "      <td>113781</td>\n",
       "      <td>151.5500</td>\n",
       "      <td>C22 C26</td>\n",
       "      <td>S</td>\n",
       "      <td>-1</td>\n",
       "      <td>-1.0</td>\n",
       "      <td>Montreal, PQ / Chesterville, ON</td>\n",
       "    </tr>\n",
       "  </tbody>\n",
       "</table>\n",
       "</div>"
      ],
      "text/plain": [
       "   pclass  survived                                             name     sex  \\\n",
       "0     1.0       1.0                    Allen, Miss. Elisabeth Walton  female   \n",
       "1     1.0       1.0                   Allison, Master. Hudson Trevor    male   \n",
       "2     1.0       0.0                     Allison, Miss. Helen Loraine  female   \n",
       "3     1.0       0.0             Allison, Mr. Hudson Joshua Creighton    male   \n",
       "4     1.0       0.0  Allison, Mrs. Hudson J C (Bessie Waldo Daniels)  female   \n",
       "\n",
       "       age  sibsp  parch  ticket      fare    cabin embarked boat   body  \\\n",
       "0  29.0000    0.0    0.0   24160  211.3375       B5        S    2   -1.0   \n",
       "1   0.9167    1.0    2.0  113781  151.5500  C22 C26        S   11   -1.0   \n",
       "2   2.0000    1.0    2.0  113781  151.5500  C22 C26        S   -1   -1.0   \n",
       "3  30.0000    1.0    2.0  113781  151.5500  C22 C26        S   -1  135.0   \n",
       "4  25.0000    1.0    2.0  113781  151.5500  C22 C26        S   -1   -1.0   \n",
       "\n",
       "                         home.dest  \n",
       "0                     St Louis, MO  \n",
       "1  Montreal, PQ / Chesterville, ON  \n",
       "2  Montreal, PQ / Chesterville, ON  \n",
       "3  Montreal, PQ / Chesterville, ON  \n",
       "4  Montreal, PQ / Chesterville, ON  "
      ]
     },
     "execution_count": 1,
     "metadata": {},
     "output_type": "execute_result"
    }
   ],
   "source": [
    "import pandas as pd\n",
    "df = pd.read_csv('titanic_new.csv')\n",
    "df.head()"
   ]
  },
  {
   "cell_type": "markdown",
   "metadata": {},
   "source": [
    "TASK 3: Encoding Categorical Variables"
   ]
  },
  {
   "cell_type": "code",
   "execution_count": 17,
   "metadata": {},
   "outputs": [
    {
     "name": "stdout",
     "output_type": "stream",
     "text": [
      "c:\\Users\\halay\\OneDrive\\Documents\\Database\\venv\\Scripts\\python.exe\n"
     ]
    }
   ],
   "source": [
    "import sys\n",
    "print(sys.executable)"
   ]
  },
  {
   "cell_type": "code",
   "execution_count": 1,
   "metadata": {},
   "outputs": [],
   "source": [
    "from sklearn.preprocessing import OneHotEncoder"
   ]
  },
  {
   "cell_type": "markdown",
   "metadata": {},
   "source": [
    "Identifying the categorical variables"
   ]
  },
  {
   "cell_type": "code",
   "execution_count": 6,
   "metadata": {},
   "outputs": [
    {
     "name": "stdout",
     "output_type": "stream",
     "text": [
      "Categorical variables: Index(['name', 'sex', 'ticket', 'cabin', 'embarked', 'boat', 'home.dest'], dtype='object')\n"
     ]
    }
   ],
   "source": [
    "categorical_vars = df.select_dtypes(include=['object']).columns\n",
    "print(\"Categorical variables:\", categorical_vars)"
   ]
  },
  {
   "cell_type": "code",
   "execution_count": 13,
   "metadata": {},
   "outputs": [
    {
     "name": "stdout",
     "output_type": "stream",
     "text": [
      "Number of unique values in each categorical variable:\n",
      "--------------------------------------------------\n",
      "\n",
      "sex: 3 unique values\n",
      "\n",
      "Value distribution:\n",
      "sex\n",
      "male      843\n",
      "female    466\n",
      "NaN         1\n",
      "Name: count, dtype: int64\n",
      "--------------------------------------------------\n",
      "\n",
      "embarked: 4 unique values\n",
      "\n",
      "Value distribution:\n",
      "embarked\n",
      "S      914\n",
      "C      270\n",
      "Q      123\n",
      "NaN      3\n",
      "Name: count, dtype: int64\n",
      "--------------------------------------------------\n",
      "\n",
      "cabin: 187 unique values\n",
      "Sample of values (first 5):\n",
      "cabin\n",
      "NaN                1015\n",
      "C23 C25 C27           6\n",
      "B57 B59 B63 B66       5\n",
      "G6                    5\n",
      "D                     4\n",
      "Name: count, dtype: int64\n",
      "--------------------------------------------------\n",
      "\n",
      "ticket: 930 unique values\n",
      "Sample of values (first 5):\n",
      "ticket\n",
      "CA. 2343    11\n",
      "CA 2144      8\n",
      "1601         8\n",
      "PC 17608     7\n",
      "347082       7\n",
      "Name: count, dtype: int64\n",
      "--------------------------------------------------\n",
      "\n",
      "boat: 28 unique values\n",
      "Sample of values (first 5):\n",
      "boat\n",
      "NaN    824\n",
      "13      39\n",
      "C       38\n",
      "15      37\n",
      "14      33\n",
      "Name: count, dtype: int64\n",
      "--------------------------------------------------\n",
      "\n",
      "home.dest: 370 unique values\n",
      "Sample of values (first 5):\n",
      "home.dest\n",
      "NaN                     565\n",
      "New York, NY             64\n",
      "London                   14\n",
      "Montreal, PQ             10\n",
      "Cornwall / Akron, OH      9\n",
      "Name: count, dtype: int64\n",
      "--------------------------------------------------\n",
      "\n",
      "name: 1308 unique values\n",
      "Sample of values (first 5):\n",
      "name\n",
      "Connolly, Miss. Kate              2\n",
      "Kelly, Mr. James                  2\n",
      "Allen, Miss. Elisabeth Walton     1\n",
      "Allison, Master. Hudson Trevor    1\n",
      "Allison, Miss. Helen Loraine      1\n",
      "Name: count, dtype: int64\n",
      "--------------------------------------------------\n",
      "\n",
      "Detailed analysis of home.dest:\n",
      "Total number of rows: 1310\n",
      "Number of missing values: 565\n",
      "Number of unique values: 369\n",
      "\n",
      "Most common destinations (top 10):\n",
      "home.dest\n",
      "New York, NY                            64\n",
      "London                                  14\n",
      "Montreal, PQ                            10\n",
      "Cornwall / Akron, OH                     9\n",
      "Paris, France                            9\n",
      "Philadelphia, PA                         8\n",
      "Winnipeg, MB                             8\n",
      "Wiltshire, England Niagara Falls, NY     8\n",
      "Sweden Winnipeg, MN                      7\n",
      "Belfast                                  7\n",
      "Name: count, dtype: int64\n"
     ]
    }
   ],
   "source": [
    "# Count unique values for each categorical variable\n",
    "print(\"Number of unique values in each categorical variable:\")\n",
    "print(\"-\" * 50)\n",
    "\n",
    "for column in ['sex', 'embarked', 'cabin', 'ticket', 'boat', 'home.dest', 'name']:\n",
    "    # Handle missing values by including them in the count\n",
    "    n_unique = df[column].fillna('Missing').nunique()\n",
    "    print(f\"\\n{column}: {n_unique} unique values\")\n",
    "    \n",
    "    # Show value counts for variables with fewer categories\n",
    "    if n_unique < 10:  # Only show distribution for variables with less than 10 categories\n",
    "        print(\"\\nValue distribution:\")\n",
    "        print(df[column].value_counts(dropna=False))  # Include NaN values in the count\n",
    "    else:\n",
    "        print(f\"Sample of values (first 5):\")\n",
    "        print(df[column].value_counts(dropna=False).head())\n",
    "    print(\"-\" * 50)\n",
    "\n",
    "# Specific analysis for home.dest\n",
    "print(\"\\nDetailed analysis of home.dest:\")\n",
    "print(f\"Total number of rows: {len(df)}\")\n",
    "print(f\"Number of missing values: {df['home.dest'].isna().sum()}\")\n",
    "print(f\"Number of unique values: {df['home.dest'].nunique()}\")\n",
    "print(\"\\nMost common destinations (top 10):\")\n",
    "print(df['home.dest'].value_counts().head(10))"
   ]
  },
  {
   "cell_type": "code",
   "execution_count": 12,
   "metadata": {},
   "outputs": [
    {
     "name": "stdout",
     "output_type": "stream",
     "text": [
      "Number of unique values in each categorical variable:\n",
      "--------------------------------------------------\n",
      "sex: 2 unique values\n",
      "\n",
      "Value distribution:\n",
      "sex\n",
      "male      843\n",
      "female    466\n",
      "Name: count, dtype: int64\n",
      "--------------------------------------------------\n",
      "embarked: 3 unique values\n",
      "\n",
      "Value distribution:\n",
      "embarked\n",
      "S    914\n",
      "C    270\n",
      "Q    123\n",
      "Name: count, dtype: int64\n",
      "--------------------------------------------------\n",
      "cabin: 186 unique values\n",
      "\n",
      "Too many values to display (186 unique values)\n",
      "--------------------------------------------------\n",
      "ticket: 929 unique values\n",
      "\n",
      "Too many values to display (929 unique values)\n",
      "--------------------------------------------------\n",
      "boat: 27 unique values\n",
      "\n",
      "Too many values to display (27 unique values)\n",
      "--------------------------------------------------\n",
      "home.dest: 369 unique values\n",
      "\n",
      "Too many values to display (369 unique values)\n",
      "--------------------------------------------------\n",
      "name: 1307 unique values\n",
      "\n",
      "Too many values to display (1307 unique values)\n",
      "--------------------------------------------------\n"
     ]
    }
   ],
   "source": [
    "# Count unique values for each categorical variable\n",
    "print(\"Number of unique values in each categorical variable:\")\n",
    "print(\"-\" * 50)\n",
    "\n",
    "for column in ['sex', 'embarked', 'cabin', 'ticket', 'boat', 'home.dest', 'name']:\n",
    "    n_unique = df[column].nunique()\n",
    "    print(f\"{column}: {n_unique} unique values\")\n",
    "    \n",
    "    # Show value counts for variables with fewer categories\n",
    "    if n_unique < 10:  # Only show distribution for variables with less than 10 categories\n",
    "        print(\"\\nValue distribution:\")\n",
    "        print(df[column].value_counts())\n",
    "    else:\n",
    "        print(f\"\\nToo many values to display ({n_unique} unique values)\")\n",
    "    print(\"-\" * 50)"
   ]
  },
  {
   "cell_type": "code",
   "execution_count": 14,
   "metadata": {},
   "outputs": [
    {
     "name": "stdout",
     "output_type": "stream",
     "text": [
      "=== Analysis of home.dest ===\n",
      "\n",
      "Total number of rows: 1310\n",
      "Number of missing values: 565\n",
      "Number of unique destinations: 369\n",
      "Percentage of missing values: 43.13%\n",
      "\n",
      "Top 10 most common destinations:\n",
      "home.dest\n",
      "New York, NY                            64\n",
      "London                                  14\n",
      "Montreal, PQ                            10\n",
      "Cornwall / Akron, OH                     9\n",
      "Paris, France                            9\n",
      "Philadelphia, PA                         8\n",
      "Winnipeg, MB                             8\n",
      "Wiltshire, England Niagara Falls, NY     8\n",
      "Sweden Winnipeg, MN                      7\n",
      "Belfast                                  7\n",
      "Name: count, dtype: int64\n",
      "\n",
      "Destinations grouped by region:\n",
      "destination_region\n",
      "Unknown     565\n",
      "Other       414\n",
      "New York    176\n",
      "England     114\n",
      "Canada       22\n",
      "France       19\n",
      "Name: count, dtype: int64\n"
     ]
    },
    {
     "data": {
      "image/png": "[encoded data removed]",
      "text/plain": [
       "<Figure size 1000x600 with 1 Axes>"
      ]
     },
     "metadata": {},
     "output_type": "display_data"
    }
   ],
   "source": [
    "# Detailed analysis of home.dest\n",
    "print(\"=== Analysis of home.dest ===\\n\")\n",
    "\n",
    "# Basic counts\n",
    "total_rows = len(df)\n",
    "missing_values = df['home.dest'].isna().sum()\n",
    "unique_values = df['home.dest'].nunique()\n",
    "\n",
    "print(f\"Total number of rows: {total_rows}\")\n",
    "print(f\"Number of missing values: {missing_values}\")\n",
    "print(f\"Number of unique destinations: {unique_values}\")\n",
    "print(f\"Percentage of missing values: {(missing_values/total_rows)*100:.2f}%\\n\")\n",
    "\n",
    "# Show most common destinations\n",
    "print(\"Top 10 most common destinations:\")\n",
    "print(df['home.dest'].value_counts().head(10))\n",
    "\n",
    "# Create a simplified version by grouping into regions\n",
    "def simplify_destination(dest):\n",
    "    if pd.isna(dest):\n",
    "        return 'Unknown'\n",
    "    elif 'NY' in str(dest) or 'New York' in str(dest):\n",
    "        return 'New York'\n",
    "    elif 'London' in str(dest) or 'England' in str(dest):\n",
    "        return 'England'\n",
    "    elif 'Montreal' in str(dest) or 'PQ' in str(dest):\n",
    "        return 'Canada'\n",
    "    elif 'Paris' in str(dest) or 'France' in str(dest):\n",
    "        return 'France'\n",
    "    else:\n",
    "        return 'Other'\n",
    "\n",
    "# Create and show regional distribution\n",
    "df['destination_region'] = df['home.dest'].apply(simplify_destination)\n",
    "print(\"\\nDestinations grouped by region:\")\n",
    "print(df['destination_region'].value_counts())\n",
    "\n",
    "# Visualize regional distribution\n",
    "import matplotlib.pyplot as plt\n",
    "\n",
    "plt.figure(figsize=(10, 6))\n",
    "df['destination_region'].value_counts().plot(kind='bar')\n",
    "plt.title('Distribution of Destinations by Region')\n",
    "plt.xlabel('Region')\n",
    "plt.ylabel('Count')\n",
    "plt.xticks(rotation=45)\n",
    "plt.tight_layout()\n",
    "plt.show()"
   ]
  },
  {
   "cell_type": "markdown",
   "metadata": {},
   "source": [
    "I decided to drop the features, name, ticket, and home.dest, as they have too many values and encoding them would result in high dimensionality which could affect the model negatively and it would be hard to interpret results, and I think that they dont have an impact on predicting the survival of the passesngers"
   ]
  },
  {
   "cell_type": "code",
   "execution_count": 11,
   "metadata": {},
   "outputs": [
    {
     "name": "stdout",
     "output_type": "stream",
     "text": [
      "Original shape: (1310, 15)\n",
      "Encoded shape: (1310, 22)\n",
      "\n",
      "Encoded features:\n",
      "sex_female\n",
      "sex_male\n",
      "sex_nan\n",
      "deck_A\n",
      "deck_B\n",
      "deck_C\n",
      "deck_D\n",
      "deck_E\n",
      "deck_F\n",
      "deck_G\n",
      "deck_T\n",
      "deck_nan\n",
      "embarked_C\n",
      "embarked_Q\n",
      "embarked_S\n",
      "embarked_nan\n",
      "\n",
      "First few rows of encoded data:\n",
      "   sex_female  sex_male  sex_nan  deck_A  deck_B  deck_C  deck_D  deck_E  \\\n",
      "0         1.0       0.0      0.0     0.0     1.0     0.0     0.0     0.0   \n",
      "1         0.0       1.0      0.0     0.0     0.0     1.0     0.0     0.0   \n",
      "2         1.0       0.0      0.0     0.0     0.0     1.0     0.0     0.0   \n",
      "3         0.0       1.0      0.0     0.0     0.0     1.0     0.0     0.0   \n",
      "4         1.0       0.0      0.0     0.0     0.0     1.0     0.0     0.0   \n",
      "\n",
      "   deck_F  deck_G  deck_T  deck_nan  embarked_C  embarked_Q  embarked_S  \\\n",
      "0     0.0     0.0     0.0       0.0         0.0         0.0         1.0   \n",
      "1     0.0     0.0     0.0       0.0         0.0         0.0         1.0   \n",
      "2     0.0     0.0     0.0       0.0         0.0         0.0         1.0   \n",
      "3     0.0     0.0     0.0       0.0         0.0         0.0         1.0   \n",
      "4     0.0     0.0     0.0       0.0         0.0         0.0         1.0   \n",
      "\n",
      "   embarked_nan  \n",
      "0           0.0  \n",
      "1           0.0  \n",
      "2           0.0  \n",
      "3           0.0  \n",
      "4           0.0  \n",
      "\n",
      "Encoding Summary:\n",
      "Categories for each feature:\n",
      "\n",
      "sex:\n",
      "['female' 'male' nan]\n",
      "\n",
      "deck:\n",
      "['A' 'B' 'C' 'D' 'E' 'F' 'G' 'T' nan]\n",
      "\n",
      "embarked:\n",
      "['C' 'Q' 'S' nan]\n"
     ]
    }
   ],
   "source": [
    "import pandas as pd\n",
    "import numpy as np\n",
    "from sklearn.preprocessing import OneHotEncoder\n",
    "\n",
    "# First, let's extract deck from cabin (first letter)\n",
    "df['deck'] = df['cabin'].str[0]\n",
    "\n",
    "# Initialize the OneHotEncoder with updated parameter\n",
    "encoder = OneHotEncoder(sparse_output=False, handle_unknown='ignore')\n",
    "\n",
    "# Select columns to encode\n",
    "columns_to_encode = ['sex', 'deck', 'embarked']\n",
    "\n",
    "# Prepare the data for encoding\n",
    "X = df[columns_to_encode]\n",
    "\n",
    "# Fit and transform the data\n",
    "encoded_data = encoder.fit_transform(X)\n",
    "\n",
    "# Get feature names for the encoded columns\n",
    "feature_names = encoder.get_feature_names_out(columns_to_encode)\n",
    "\n",
    "# Create DataFrame with encoded variables\n",
    "encoded_df = pd.DataFrame(\n",
    "    encoded_data,\n",
    "    columns=feature_names,\n",
    "    index=df.index\n",
    ")\n",
    "\n",
    "# Combine with numerical features\n",
    "numerical_features = ['pclass', 'age', 'sibsp', 'parch', 'fare', 'survived']\n",
    "final_df = pd.concat([df[numerical_features], encoded_df], axis=1)\n",
    "\n",
    "# Display results\n",
    "print(\"Original shape:\", df.shape)\n",
    "print(\"Encoded shape:\", final_df.shape)\n",
    "\n",
    "print(\"\\nEncoded features:\")\n",
    "for column in encoded_df.columns:\n",
    "    print(column)\n",
    "\n",
    "print(\"\\nFirst few rows of encoded data:\")\n",
    "print(encoded_df.head())\n",
    "\n",
    "# Save encoded dataset\n",
    "final_df.to_csv('titanic_encoded.csv', index=False)\n",
    "\n",
    "# Print encoding information\n",
    "print(\"\\nEncoding Summary:\")\n",
    "print(\"Categories for each feature:\")\n",
    "for i, feature in enumerate(columns_to_encode):\n",
    "    print(f\"\\n{feature}:\")\n",
    "    print(encoder.categories_[i])"
   ]
  },
  {
   "cell_type": "code",
   "execution_count": 15,
   "metadata": {},
   "outputs": [
    {
     "name": "stdout",
     "output_type": "stream",
     "text": [
      "Original Data (first 3 rows):\n",
      "   pclass      age  sibsp  parch      fare\n",
      "0     1.0  29.0000    0.0    0.0  211.3375\n",
      "1     1.0   0.9167    1.0    2.0  151.5500\n",
      "2     1.0   2.0000    1.0    2.0  151.5500\n",
      "\n",
      "After Standardization:\n",
      "     pclass       age     sibsp     parch      fare\n",
      "0 -1.546098 -0.061162 -0.479087 -0.445000  3.441165\n",
      "1 -1.546098 -2.010496  0.481288  1.866526  2.285603\n",
      "2 -1.546098 -1.935302  0.481288  1.866526  2.285603\n",
      "\n",
      "After Normalization:\n",
      "   pclass       age  sibsp     parch      fare\n",
      "0     0.0  0.361169  0.000  0.000000  0.412503\n",
      "1     0.0  0.009395  0.125  0.222222  0.295806\n",
      "2     0.0  0.022964  0.125  0.222222  0.295806\n"
     ]
    }
   ],
   "source": [
    "import pandas as pd\n",
    "from sklearn.preprocessing import StandardScaler, MinMaxScaler\n",
    "\n",
    "# Load your encoded Titanic data\n",
    "df = pd.read_csv('titanic_encoded.csv')\n",
    "\n",
    "# Select numerical columns to scale (we don't scale target variable 'survived')\n",
    "numerical_features = ['pclass', 'age', 'sibsp', 'parch', 'fare']\n",
    "\n",
    "# Make copies for different scaling methods\n",
    "df_standard = df.copy()\n",
    "df_minmax = df.copy()\n",
    "\n",
    "# 1. Standardization (centers around 0)\n",
    "scaler = StandardScaler()\n",
    "df_standard[numerical_features] = scaler.fit_transform(df[numerical_features])\n",
    "\n",
    "# 2. Normalization (scales between 0 and 1)\n",
    "normalizer = MinMaxScaler()\n",
    "df_minmax[numerical_features] = normalizer.fit_transform(df[numerical_features])\n",
    "\n",
    "# Save both versions\n",
    "df_standard.to_csv('titanic_standardized.csv', index=False)\n",
    "df_minmax.to_csv('titanic_normalized.csv', index=False)\n",
    "\n",
    "# Show example of how the numbers changed\n",
    "print(\"Original Data (first 3 rows):\")\n",
    "print(df[numerical_features].head(3))\n",
    "print(\"\\nAfter Standardization:\")\n",
    "print(df_standard[numerical_features].head(3))\n",
    "print(\"\\nAfter Normalization:\")\n",
    "print(df_minmax[numerical_features].head(3))"
   ]
  },
  {
   "cell_type": "markdown",
   "metadata": {},
   "source": [
    "Difference between Standardization and Normalization and their importance\n",
    "\n",
    "Normalization: is converting an actual numerical range of values into a predefined and artificial range of values (usually in the interval [0,1] or [-1,1]). Since Normalization uses a rnage it compresses feature values (including outliers) in the range, so if the outliers are too different from the rest of the data this can affect the new normalized data.\n",
    "\n",
    "Standardization: is a procedure to center the data to have a mean of 0 and it scales it to have a standard deviation of 1, this results in the feature values having properties of a standatrd normal distribution.\n",
    "\n",
    "Normalization tends to work better for uniformly distributed data. Whereas, Standardization tends to work bets for normally distributed data. \n",
    "\n",
    "We use feature scaling to increase the training speed of models and to ensure that features are not dominating others especially in gradient descent as large feature slow down training and this results in a better ML model with better, faster, and more accurate output."
   ]
  }
 ],
 "metadata": {
  "kernelspec": {
   "display_name": "Python 3",
   "language": "python",
   "name": "python3"
  },
  "language_info": {
   "codemirror_mode": {
    "name": "ipython",
    "version": 3
   },
   "file_extension": ".py",
   "mimetype": "text/x-python",
   "name": "python",
   "nbconvert_exporter": "python",
   "pygments_lexer": "ipython3",
   "version": "3.12.3"
  }
 },
 "nbformat": 4,
 "nbformat_minor": 2
}
