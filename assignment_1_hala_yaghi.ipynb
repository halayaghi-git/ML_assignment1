{
 "cells": [
  {
   "cell_type": "markdown",
   "metadata": {},
   "source": [
    "Task 1: Data Loading and Initial Exploration"
   ]
  },
  {
   "cell_type": "code",
   "execution_count": 5,
   "metadata": {},
   "outputs": [
    {
     "data": {
      "text/html": [
       "<div>\n",
       "<style scoped>\n",
       "    .dataframe tbody tr th:only-of-type {\n",
       "        vertical-align: middle;\n",
       "    }\n",
       "\n",
       "    .dataframe tbody tr th {\n",
       "        vertical-align: top;\n",
       "    }\n",
       "\n",
       "    .dataframe thead th {\n",
       "        text-align: right;\n",
       "    }\n",
       "</style>\n",
       "<table border=\"1\" class=\"dataframe\">\n",
       "  <thead>\n",
       "    <tr style=\"text-align: right;\">\n",
       "      <th></th>\n",
       "      <th>pclass</th>\n",
       "      <th>survived</th>\n",
       "      <th>name</th>\n",
       "      <th>sex</th>\n",
       "      <th>age</th>\n",
       "      <th>sibsp</th>\n",
       "      <th>parch</th>\n",
       "      <th>ticket</th>\n",
       "      <th>fare</th>\n",
       "      <th>cabin</th>\n",
       "      <th>embarked</th>\n",
       "      <th>boat</th>\n",
       "      <th>body</th>\n",
       "      <th>home.dest</th>\n",
       "    </tr>\n",
       "  </thead>\n",
       "  <tbody>\n",
       "    <tr>\n",
       "      <th>0</th>\n",
       "      <td>1.0</td>\n",
       "      <td>1.0</td>\n",
       "      <td>Allen, Miss. Elisabeth Walton</td>\n",
       "      <td>female</td>\n",
       "      <td>29.0000</td>\n",
       "      <td>0.0</td>\n",
       "      <td>0.0</td>\n",
       "      <td>24160</td>\n",
       "      <td>211.3375</td>\n",
       "      <td>B5</td>\n",
       "      <td>S</td>\n",
       "      <td>2</td>\n",
       "      <td>NaN</td>\n",
       "      <td>St Louis, MO</td>\n",
       "    </tr>\n",
       "    <tr>\n",
       "      <th>1</th>\n",
       "      <td>1.0</td>\n",
       "      <td>1.0</td>\n",
       "      <td>Allison, Master. Hudson Trevor</td>\n",
       "      <td>male</td>\n",
       "      <td>0.9167</td>\n",
       "      <td>1.0</td>\n",
       "      <td>2.0</td>\n",
       "      <td>113781</td>\n",
       "      <td>151.5500</td>\n",
       "      <td>C22 C26</td>\n",
       "      <td>S</td>\n",
       "      <td>11</td>\n",
       "      <td>NaN</td>\n",
       "      <td>Montreal, PQ / Chesterville, ON</td>\n",
       "    </tr>\n",
       "    <tr>\n",
       "      <th>2</th>\n",
       "      <td>1.0</td>\n",
       "      <td>0.0</td>\n",
       "      <td>Allison, Miss. Helen Loraine</td>\n",
       "      <td>female</td>\n",
       "      <td>2.0000</td>\n",
       "      <td>1.0</td>\n",
       "      <td>2.0</td>\n",
       "      <td>113781</td>\n",
       "      <td>151.5500</td>\n",
       "      <td>C22 C26</td>\n",
       "      <td>S</td>\n",
       "      <td>NaN</td>\n",
       "      <td>NaN</td>\n",
       "      <td>Montreal, PQ / Chesterville, ON</td>\n",
       "    </tr>\n",
       "    <tr>\n",
       "      <th>3</th>\n",
       "      <td>1.0</td>\n",
       "      <td>0.0</td>\n",
       "      <td>Allison, Mr. Hudson Joshua Creighton</td>\n",
       "      <td>male</td>\n",
       "      <td>30.0000</td>\n",
       "      <td>1.0</td>\n",
       "      <td>2.0</td>\n",
       "      <td>113781</td>\n",
       "      <td>151.5500</td>\n",
       "      <td>C22 C26</td>\n",
       "      <td>S</td>\n",
       "      <td>NaN</td>\n",
       "      <td>135.0</td>\n",
       "      <td>Montreal, PQ / Chesterville, ON</td>\n",
       "    </tr>\n",
       "    <tr>\n",
       "      <th>4</th>\n",
       "      <td>1.0</td>\n",
       "      <td>0.0</td>\n",
       "      <td>Allison, Mrs. Hudson J C (Bessie Waldo Daniels)</td>\n",
       "      <td>female</td>\n",
       "      <td>25.0000</td>\n",
       "      <td>1.0</td>\n",
       "      <td>2.0</td>\n",
       "      <td>113781</td>\n",
       "      <td>151.5500</td>\n",
       "      <td>C22 C26</td>\n",
       "      <td>S</td>\n",
       "      <td>NaN</td>\n",
       "      <td>NaN</td>\n",
       "      <td>Montreal, PQ / Chesterville, ON</td>\n",
       "    </tr>\n",
       "  </tbody>\n",
       "</table>\n",
       "</div>"
      ],
      "text/plain": [
       "   pclass  survived                                             name     sex  \\\n",
       "0     1.0       1.0                    Allen, Miss. Elisabeth Walton  female   \n",
       "1     1.0       1.0                   Allison, Master. Hudson Trevor    male   \n",
       "2     1.0       0.0                     Allison, Miss. Helen Loraine  female   \n",
       "3     1.0       0.0             Allison, Mr. Hudson Joshua Creighton    male   \n",
       "4     1.0       0.0  Allison, Mrs. Hudson J C (Bessie Waldo Daniels)  female   \n",
       "\n",
       "       age  sibsp  parch  ticket      fare    cabin embarked boat   body  \\\n",
       "0  29.0000    0.0    0.0   24160  211.3375       B5        S    2    NaN   \n",
       "1   0.9167    1.0    2.0  113781  151.5500  C22 C26        S   11    NaN   \n",
       "2   2.0000    1.0    2.0  113781  151.5500  C22 C26        S  NaN    NaN   \n",
       "3  30.0000    1.0    2.0  113781  151.5500  C22 C26        S  NaN  135.0   \n",
       "4  25.0000    1.0    2.0  113781  151.5500  C22 C26        S  NaN    NaN   \n",
       "\n",
       "                         home.dest  \n",
       "0                     St Louis, MO  \n",
       "1  Montreal, PQ / Chesterville, ON  \n",
       "2  Montreal, PQ / Chesterville, ON  \n",
       "3  Montreal, PQ / Chesterville, ON  \n",
       "4  Montreal, PQ / Chesterville, ON  "
      ]
     },
     "execution_count": 5,
     "metadata": {},
     "output_type": "execute_result"
    }
   ],
   "source": [
    "import pandas as pd\n",
    "\n",
    "df = pd.read_csv('titanic3.csv')\n",
    "\n",
    "df.head()\n"
   ]
  },
  {
   "cell_type": "markdown",
   "metadata": {},
   "source": [
    "- Performing EDA "
   ]
  },
  {
   "cell_type": "code",
   "execution_count": 5,
   "metadata": {},
   "outputs": [
    {
     "name": "stdout",
     "output_type": "stream",
     "text": [
      "<class 'pandas.core.frame.DataFrame'>\n",
      "RangeIndex: 1309 entries, 0 to 1308\n",
      "Data columns (total 14 columns):\n",
      " #   Column     Non-Null Count  Dtype  \n",
      "---  ------     --------------  -----  \n",
      " 0   pclass     1309 non-null   float64\n",
      " 1   survived   1309 non-null   float64\n",
      " 2   name       1309 non-null   object \n",
      " 3   sex        1309 non-null   object \n",
      " 4   age        1309 non-null   float64\n",
      " 5   sibsp      1309 non-null   float64\n",
      " 6   parch      1309 non-null   float64\n",
      " 7   ticket     1309 non-null   object \n",
      " 8   fare       1309 non-null   float64\n",
      " 9   cabin      1309 non-null   object \n",
      " 10  embarked   1307 non-null   object \n",
      " 11  boat       1309 non-null   object \n",
      " 12  body       1309 non-null   float64\n",
      " 13  home.dest  1309 non-null   object \n",
      "dtypes: float64(7), object(7)\n",
      "memory usage: 143.3+ KB\n"
     ]
    }
   ],
   "source": [
    "df.info()"
   ]
  },
  {
   "cell_type": "markdown",
   "metadata": {},
   "source": [
    "- Descriptive Statistics"
   ]
  },
  {
   "cell_type": "code",
   "execution_count": 6,
   "metadata": {},
   "outputs": [
    {
     "name": "stdout",
     "output_type": "stream",
     "text": [
      "Descriptive Statistics:\n",
      "            pclass     survived          age        sibsp        parch  \\\n",
      "count  1309.000000  1309.000000  1309.000000  1309.000000  1309.000000   \n",
      "mean      2.294882     0.381971    29.881135     0.498854     0.385027   \n",
      "std       0.837836     0.486055    12.883199     1.041658     0.865560   \n",
      "min       1.000000     0.000000     0.166700     0.000000     0.000000   \n",
      "25%       2.000000     0.000000    22.000000     0.000000     0.000000   \n",
      "50%       3.000000     0.000000    29.881135     0.000000     0.000000   \n",
      "75%       3.000000     1.000000    35.000000     1.000000     0.000000   \n",
      "max       3.000000     1.000000    80.000000     8.000000     9.000000   \n",
      "\n",
      "              fare         body  \n",
      "count  1309.000000  1309.000000  \n",
      "mean     33.295479    13.957219  \n",
      "std      51.738879    55.442283  \n",
      "min       0.000000    -1.000000  \n",
      "25%       7.895800    -1.000000  \n",
      "50%      14.454200    -1.000000  \n",
      "75%      31.275000    -1.000000  \n",
      "max     512.329200   328.000000  \n"
     ]
    }
   ],
   "source": [
    "descriptive_stats = df.describe()\n",
    "print(\"Descriptive Statistics:\")\n",
    "print(descriptive_stats)\n"
   ]
  },
  {
   "cell_type": "markdown",
   "metadata": {},
   "source": [
    "- Shape"
   ]
  },
  {
   "cell_type": "code",
   "execution_count": 6,
   "metadata": {},
   "outputs": [
    {
     "name": "stdout",
     "output_type": "stream",
     "text": [
      "Dataset Shape: 1310 rows and 14 columns\n",
      "\n"
     ]
    }
   ],
   "source": [
    "print(f\"Dataset Shape: {df.shape[0]} rows and {df.shape[1]} columns\\n\")\n"
   ]
  },
  {
   "cell_type": "markdown",
   "metadata": {},
   "source": [
    "- Data types, numerical/categorical"
   ]
  },
  {
   "cell_type": "code",
   "execution_count": 7,
   "metadata": {},
   "outputs": [
    {
     "name": "stdout",
     "output_type": "stream",
     "text": [
      "Data Types:\n",
      "pclass       float64\n",
      "survived     float64\n",
      "name          object\n",
      "sex           object\n",
      "age          float64\n",
      "sibsp        float64\n",
      "parch        float64\n",
      "ticket        object\n",
      "fare         float64\n",
      "cabin         object\n",
      "embarked      object\n",
      "boat          object\n",
      "body         float64\n",
      "home.dest     object\n",
      "dtype: object\n",
      "\n",
      "\n"
     ]
    }
   ],
   "source": [
    "print(\"Data Types:\")\n",
    "print(df.dtypes)\n",
    "print(\"\\n\")"
   ]
  },
  {
   "cell_type": "code",
   "execution_count": 4,
   "metadata": {},
   "outputs": [
    {
     "name": "stdout",
     "output_type": "stream",
     "text": [
      "Number of duplicate rows: 0\n"
     ]
    }
   ],
   "source": [
    "duplicates = df.duplicated().sum()\n",
    "print(f\"Number of duplicate rows: {duplicates}\")"
   ]
  },
  {
   "cell_type": "markdown",
   "metadata": {},
   "source": [
    "- Visualizing (to get a better understanding of the statistical data)"
   ]
  },
  {
   "cell_type": "code",
   "execution_count": 18,
   "metadata": {},
   "outputs": [
    {
     "name": "stdout",
     "output_type": "stream",
     "text": [
      "['Solarize_Light2', '_classic_test_patch', '_mpl-gallery', '_mpl-gallery-nogrid', 'bmh', 'classic', 'dark_background', 'fast', 'fivethirtyeight', 'ggplot', 'grayscale', 'petroff10', 'seaborn-v0_8', 'seaborn-v0_8-bright', 'seaborn-v0_8-colorblind', 'seaborn-v0_8-dark', 'seaborn-v0_8-dark-palette', 'seaborn-v0_8-darkgrid', 'seaborn-v0_8-deep', 'seaborn-v0_8-muted', 'seaborn-v0_8-notebook', 'seaborn-v0_8-paper', 'seaborn-v0_8-pastel', 'seaborn-v0_8-poster', 'seaborn-v0_8-talk', 'seaborn-v0_8-ticks', 'seaborn-v0_8-white', 'seaborn-v0_8-whitegrid', 'tableau-colorblind10']\n"
     ]
    }
   ],
   "source": [
    "import matplotlib.pyplot as plt\n",
    "\n",
    "print(plt.style.available)"
   ]
  },
  {
   "cell_type": "markdown",
   "metadata": {},
   "source": [
    "Since the data is not normally distributed, I will use the boxplot to understand the outliers. I determined that it is not normally distributed because the data the median is not the same as the mean (not symmetric)."
   ]
  },
  {
   "cell_type": "code",
   "execution_count": 19,
   "metadata": {},
   "outputs": [
    {
     "data": {
      "image/png": "[encoded data removed]",
      "text/plain": [
       "<Figure size 800x500 with 1 Axes>"
      ]
     },
     "metadata": {},
     "output_type": "display_data"
    },
    {
     "data": {
      "image/png": "[encoded data removed]",
      "text/plain": [
       "<Figure size 800x500 with 1 Axes>"
      ]
     },
     "metadata": {},
     "output_type": "display_data"
    }
   ],
   "source": [
    "import pandas as pd\n",
    "import matplotlib.pyplot as plt\n",
    "import seaborn as sns\n",
    "\n",
    "plt.style.use('seaborn-v0_8')  \n",
    "\n",
    "df = pd.read_csv('titanic3.csv') \n",
    "\n",
    "plt.figure(figsize=(8, 5))\n",
    "sns.boxplot(x=df[\"fare\"])\n",
    "plt.title(\"Boxplot of Fare\")\n",
    "plt.show()\n",
    "\n",
    "plt.figure(figsize=(8, 5))\n",
    "sns.boxplot(x=df[\"age\"])\n",
    "plt.title(\"Boxplot of Age\")\n",
    "plt.show()"
   ]
  },
  {
   "cell_type": "markdown",
   "metadata": {},
   "source": [
    "According to the outputs of the boxplot:\n",
    "Fare: The boxplot is right skewed, and this tells us that there are some outliers in the data.\n",
    "Age: The boxplot is left skewed, and this tells us that there are some outliers in the data."
   ]
  },
  {
   "cell_type": "markdown",
   "metadata": {},
   "source": [
    "TASK 2: Managing Missing Values"
   ]
  },
  {
   "cell_type": "code",
   "execution_count": 20,
   "metadata": {},
   "outputs": [
    {
     "name": "stdout",
     "output_type": "stream",
     "text": [
      "pclass          1\n",
      "survived        1\n",
      "name            1\n",
      "sex             1\n",
      "age           264\n",
      "sibsp           1\n",
      "parch           1\n",
      "ticket          1\n",
      "fare            2\n",
      "cabin        1015\n",
      "embarked        3\n",
      "boat          824\n",
      "body         1189\n",
      "home.dest     565\n",
      "dtype: int64\n"
     ]
    }
   ],
   "source": [
    "missing_values = df.isnull().sum() \n",
    "\n",
    "missing_values = missing_values[missing_values > 0] \n",
    "\n",
    "print(missing_values)\n"
   ]
  },
  {
   "cell_type": "markdown",
   "metadata": {},
   "source": [
    "1. Replace with mean, age is continuous, and fare only has a few missing values"
   ]
  },
  {
   "cell_type": "code",
   "execution_count": 12,
   "metadata": {},
   "outputs": [
    {
     "name": "stderr",
     "output_type": "stream",
     "text": [
      "C:\\Users\\halay\\AppData\\Local\\Temp\\ipykernel_21328\\883390424.py:1: FutureWarning: A value is trying to be set on a copy of a DataFrame or Series through chained assignment using an inplace method.\n",
      "The behavior will change in pandas 3.0. This inplace method will never work because the intermediate object on which we are setting values always behaves as a copy.\n",
      "\n",
      "For example, when doing 'df[col].method(value, inplace=True)', try using 'df.method({col: value}, inplace=True)' or df[col] = df[col].method(value) instead, to perform the operation inplace on the original object.\n",
      "\n",
      "\n",
      "  df['age'].fillna(df['age'].mean(), inplace=True)\n",
      "C:\\Users\\halay\\AppData\\Local\\Temp\\ipykernel_21328\\883390424.py:2: FutureWarning: A value is trying to be set on a copy of a DataFrame or Series through chained assignment using an inplace method.\n",
      "The behavior will change in pandas 3.0. This inplace method will never work because the intermediate object on which we are setting values always behaves as a copy.\n",
      "\n",
      "For example, when doing 'df[col].method(value, inplace=True)', try using 'df.method({col: value}, inplace=True)' or df[col] = df[col].method(value) instead, to perform the operation inplace on the original object.\n",
      "\n",
      "\n",
      "  df['fare'].fillna(df['fare'].mean(), inplace=True)\n"
     ]
    }
   ],
   "source": [
    "df['age'].fillna(df['age'].mean(), inplace=True)\n",
    "df['fare'].fillna(df['fare'].mean(), inplace=True)"
   ]
  },
  {
   "cell_type": "markdown",
   "metadata": {},
   "source": [
    "2. Replacing with -1, or unknown to avoid assumpptions, or fill in missign patters (for home for ex.)"
   ]
  },
  {
   "cell_type": "code",
   "execution_count": 13,
   "metadata": {},
   "outputs": [
    {
     "name": "stderr",
     "output_type": "stream",
     "text": [
      "C:\\Users\\halay\\AppData\\Local\\Temp\\ipykernel_21328\\1475066345.py:1: FutureWarning: A value is trying to be set on a copy of a DataFrame or Series through chained assignment using an inplace method.\n",
      "The behavior will change in pandas 3.0. This inplace method will never work because the intermediate object on which we are setting values always behaves as a copy.\n",
      "\n",
      "For example, when doing 'df[col].method(value, inplace=True)', try using 'df.method({col: value}, inplace=True)' or df[col] = df[col].method(value) instead, to perform the operation inplace on the original object.\n",
      "\n",
      "\n",
      "  df['sex'].fillna(\"Unknown\", inplace=True)\n",
      "C:\\Users\\halay\\AppData\\Local\\Temp\\ipykernel_21328\\1475066345.py:2: FutureWarning: A value is trying to be set on a copy of a DataFrame or Series through chained assignment using an inplace method.\n",
      "The behavior will change in pandas 3.0. This inplace method will never work because the intermediate object on which we are setting values always behaves as a copy.\n",
      "\n",
      "For example, when doing 'df[col].method(value, inplace=True)', try using 'df.method({col: value}, inplace=True)' or df[col] = df[col].method(value) instead, to perform the operation inplace on the original object.\n",
      "\n",
      "\n",
      "  df['cabin'].fillna(\"Unknown\", inplace=True)\n",
      "C:\\Users\\halay\\AppData\\Local\\Temp\\ipykernel_21328\\1475066345.py:3: FutureWarning: A value is trying to be set on a copy of a DataFrame or Series through chained assignment using an inplace method.\n",
      "The behavior will change in pandas 3.0. This inplace method will never work because the intermediate object on which we are setting values always behaves as a copy.\n",
      "\n",
      "For example, when doing 'df[col].method(value, inplace=True)', try using 'df.method({col: value}, inplace=True)' or df[col] = df[col].method(value) instead, to perform the operation inplace on the original object.\n",
      "\n",
      "\n",
      "  df['boat'].fillna(-1, inplace=True)\n",
      "C:\\Users\\halay\\AppData\\Local\\Temp\\ipykernel_21328\\1475066345.py:4: FutureWarning: A value is trying to be set on a copy of a DataFrame or Series through chained assignment using an inplace method.\n",
      "The behavior will change in pandas 3.0. This inplace method will never work because the intermediate object on which we are setting values always behaves as a copy.\n",
      "\n",
      "For example, when doing 'df[col].method(value, inplace=True)', try using 'df.method({col: value}, inplace=True)' or df[col] = df[col].method(value) instead, to perform the operation inplace on the original object.\n",
      "\n",
      "\n",
      "  df['body'].fillna(-1, inplace=True)\n",
      "C:\\Users\\halay\\AppData\\Local\\Temp\\ipykernel_21328\\1475066345.py:5: FutureWarning: A value is trying to be set on a copy of a DataFrame or Series through chained assignment using an inplace method.\n",
      "The behavior will change in pandas 3.0. This inplace method will never work because the intermediate object on which we are setting values always behaves as a copy.\n",
      "\n",
      "For example, when doing 'df[col].method(value, inplace=True)', try using 'df.method({col: value}, inplace=True)' or df[col] = df[col].method(value) instead, to perform the operation inplace on the original object.\n",
      "\n",
      "\n",
      "  df['home.dest'].fillna(\"Unknown\", inplace=True)\n"
     ]
    }
   ],
   "source": [
    "df['sex'].fillna(\"Unknown\", inplace=True)\n",
    "df['cabin'].fillna(\"Unknown\", inplace=True)\n",
    "df['boat'].fillna(-1, inplace=True)\n",
    "df['body'].fillna(-1, inplace=True)\n",
    "df['home.dest'].fillna(\"Unknown\", inplace=True)"
   ]
  },
  {
   "cell_type": "markdown",
   "metadata": {},
   "source": [
    "3. Replacing with most frequent value since it only has a few missing values and is categorical"
   ]
  },
  {
   "cell_type": "code",
   "execution_count": null,
   "metadata": {},
   "outputs": [],
   "source": [
    "df['embarked'].fillna(df['embarked'].mode()[0], inplace=True)"
   ]
  },
  {
   "cell_type": "markdown",
   "metadata": {},
   "source": [
    "4. Removing rows with very few missing values (as it will have no major difference)"
   ]
  },
  {
   "cell_type": "code",
   "execution_count": 14,
   "metadata": {},
   "outputs": [],
   "source": [
    "df.dropna(subset=['pclass', 'survived', 'name', 'sibsp', 'parch', 'ticket'], inplace=True)"
   ]
  },
  {
   "cell_type": "markdown",
   "metadata": {},
   "source": [
    "- The dataset without missing values"
   ]
  },
  {
   "cell_type": "code",
   "execution_count": 15,
   "metadata": {},
   "outputs": [],
   "source": [
    "df.to_csv(\"titanic_new.csv\", index=False)\n"
   ]
  },
  {
   "cell_type": "code",
   "execution_count": 1,
   "metadata": {},
   "outputs": [
    {
     "data": {
      "text/html": [
       "<div>\n",
       "<style scoped>\n",
       "    .dataframe tbody tr th:only-of-type {\n",
       "        vertical-align: middle;\n",
       "    }\n",
       "\n",
       "    .dataframe tbody tr th {\n",
       "        vertical-align: top;\n",
       "    }\n",
       "\n",
       "    .dataframe thead th {\n",
       "        text-align: right;\n",
       "    }\n",
       "</style>\n",
       "<table border=\"1\" class=\"dataframe\">\n",
       "  <thead>\n",
       "    <tr style=\"text-align: right;\">\n",
       "      <th></th>\n",
       "      <th>pclass</th>\n",
       "      <th>survived</th>\n",
       "      <th>name</th>\n",
       "      <th>sex</th>\n",
       "      <th>age</th>\n",
       "      <th>sibsp</th>\n",
       "      <th>parch</th>\n",
       "      <th>ticket</th>\n",
       "      <th>fare</th>\n",
       "      <th>cabin</th>\n",
       "      <th>embarked</th>\n",
       "      <th>boat</th>\n",
       "      <th>body</th>\n",
       "      <th>home.dest</th>\n",
       "    </tr>\n",
       "  </thead>\n",
       "  <tbody>\n",
       "    <tr>\n",
       "      <th>0</th>\n",
       "      <td>1.0</td>\n",
       "      <td>1.0</td>\n",
       "      <td>Allen, Miss. Elisabeth Walton</td>\n",
       "      <td>female</td>\n",
       "      <td>29.0000</td>\n",
       "      <td>0.0</td>\n",
       "      <td>0.0</td>\n",
       "      <td>24160</td>\n",
       "      <td>211.3375</td>\n",
       "      <td>B5</td>\n",
       "      <td>S</td>\n",
       "      <td>2</td>\n",
       "      <td>-1.0</td>\n",
       "      <td>St Louis, MO</td>\n",
       "    </tr>\n",
       "    <tr>\n",
       "      <th>1</th>\n",
       "      <td>1.0</td>\n",
       "      <td>1.0</td>\n",
       "      <td>Allison, Master. Hudson Trevor</td>\n",
       "      <td>male</td>\n",
       "      <td>0.9167</td>\n",
       "      <td>1.0</td>\n",
       "      <td>2.0</td>\n",
       "      <td>113781</td>\n",
       "      <td>151.5500</td>\n",
       "      <td>C22 C26</td>\n",
       "      <td>S</td>\n",
       "      <td>11</td>\n",
       "      <td>-1.0</td>\n",
       "      <td>Montreal, PQ / Chesterville, ON</td>\n",
       "    </tr>\n",
       "    <tr>\n",
       "      <th>2</th>\n",
       "      <td>1.0</td>\n",
       "      <td>0.0</td>\n",
       "      <td>Allison, Miss. Helen Loraine</td>\n",
       "      <td>female</td>\n",
       "      <td>2.0000</td>\n",
       "      <td>1.0</td>\n",
       "      <td>2.0</td>\n",
       "      <td>113781</td>\n",
       "      <td>151.5500</td>\n",
       "      <td>C22 C26</td>\n",
       "      <td>S</td>\n",
       "      <td>-1</td>\n",
       "      <td>-1.0</td>\n",
       "      <td>Montreal, PQ / Chesterville, ON</td>\n",
       "    </tr>\n",
       "    <tr>\n",
       "      <th>3</th>\n",
       "      <td>1.0</td>\n",
       "      <td>0.0</td>\n",
       "      <td>Allison, Mr. Hudson Joshua Creighton</td>\n",
       "      <td>male</td>\n",
       "      <td>30.0000</td>\n",
       "      <td>1.0</td>\n",
       "      <td>2.0</td>\n",
       "      <td>113781</td>\n",
       "      <td>151.5500</td>\n",
       "      <td>C22 C26</td>\n",
       "      <td>S</td>\n",
       "      <td>-1</td>\n",
       "      <td>135.0</td>\n",
       "      <td>Montreal, PQ / Chesterville, ON</td>\n",
       "    </tr>\n",
       "    <tr>\n",
       "      <th>4</th>\n",
       "      <td>1.0</td>\n",
       "      <td>0.0</td>\n",
       "      <td>Allison, Mrs. Hudson J C (Bessie Waldo Daniels)</td>\n",
       "      <td>female</td>\n",
       "      <td>25.0000</td>\n",
       "      <td>1.0</td>\n",
       "      <td>2.0</td>\n",
       "      <td>113781</td>\n",
       "      <td>151.5500</td>\n",
       "      <td>C22 C26</td>\n",
       "      <td>S</td>\n",
       "      <td>-1</td>\n",
       "      <td>-1.0</td>\n",
       "      <td>Montreal, PQ / Chesterville, ON</td>\n",
       "    </tr>\n",
       "  </tbody>\n",
       "</table>\n",
       "</div>"
      ],
      "text/plain": [
       "   pclass  survived                                             name     sex  \\\n",
       "0     1.0       1.0                    Allen, Miss. Elisabeth Walton  female   \n",
       "1     1.0       1.0                   Allison, Master. Hudson Trevor    male   \n",
       "2     1.0       0.0                     Allison, Miss. Helen Loraine  female   \n",
       "3     1.0       0.0             Allison, Mr. Hudson Joshua Creighton    male   \n",
       "4     1.0       0.0  Allison, Mrs. Hudson J C (Bessie Waldo Daniels)  female   \n",
       "\n",
       "       age  sibsp  parch  ticket      fare    cabin embarked boat   body  \\\n",
       "0  29.0000    0.0    0.0   24160  211.3375       B5        S    2   -1.0   \n",
       "1   0.9167    1.0    2.0  113781  151.5500  C22 C26        S   11   -1.0   \n",
       "2   2.0000    1.0    2.0  113781  151.5500  C22 C26        S   -1   -1.0   \n",
       "3  30.0000    1.0    2.0  113781  151.5500  C22 C26        S   -1  135.0   \n",
       "4  25.0000    1.0    2.0  113781  151.5500  C22 C26        S   -1   -1.0   \n",
       "\n",
       "                         home.dest  \n",
       "0                     St Louis, MO  \n",
       "1  Montreal, PQ / Chesterville, ON  \n",
       "2  Montreal, PQ / Chesterville, ON  \n",
       "3  Montreal, PQ / Chesterville, ON  \n",
       "4  Montreal, PQ / Chesterville, ON  "
      ]
     },
     "execution_count": 1,
     "metadata": {},
     "output_type": "execute_result"
    }
   ],
   "source": [
    "import pandas as pd\n",
    "df = pd.read_csv('titanic_new.csv')\n",
    "df.head()"
   ]
  },
  {
   "cell_type": "markdown",
   "metadata": {},
   "source": [
    "TASK 3: Encoding Categorical Variables"
   ]
  },
  {
   "cell_type": "code",
   "execution_count": 17,
   "metadata": {},
   "outputs": [
    {
     "name": "stdout",
     "output_type": "stream",
     "text": [
      "c:\\Users\\halay\\OneDrive\\Documents\\Database\\venv\\Scripts\\python.exe\n"
     ]
    }
   ],
   "source": [
    "import sys\n",
    "print(sys.executable)"
   ]
  },
  {
   "cell_type": "code",
   "execution_count": 1,
   "metadata": {},
   "outputs": [],
   "source": [
    "from sklearn.preprocessing import OneHotEncoder"
   ]
  },
  {
   "cell_type": "markdown",
   "metadata": {},
   "source": [
    "- Identifying the categorical variables"
   ]
  },
  {
   "cell_type": "code",
   "execution_count": 6,
   "metadata": {},
   "outputs": [
    {
     "name": "stdout",
     "output_type": "stream",
     "text": [
      "Categorical variables: Index(['name', 'sex', 'ticket', 'cabin', 'embarked', 'boat', 'home.dest'], dtype='object')\n"
     ]
    }
   ],
   "source": [
    "categorical_vars = df.select_dtypes(include=['object']).columns\n",
    "print(\"Categorical variables:\", categorical_vars)"
   ]
  },
  {
   "cell_type": "code",
   "execution_count": 24,
   "metadata": {},
   "outputs": [
    {
     "name": "stdout",
     "output_type": "stream",
     "text": [
      "Number of unique values in each categorical variable:\n",
      "\n",
      "sex: 3 unique values\n",
      "\n",
      "Value distribution:\n",
      "sex\n",
      "male      843\n",
      "female    466\n",
      "NaN         1\n",
      "Name: count, dtype: int64\n",
      "\n",
      "embarked: 4 unique values\n",
      "\n",
      "Value distribution:\n",
      "embarked\n",
      "S      914\n",
      "C      270\n",
      "Q      123\n",
      "NaN      3\n",
      "Name: count, dtype: int64\n",
      "\n",
      "cabin: 187 unique values\n",
      "Sample of values (first 5):\n",
      "cabin\n",
      "NaN                1015\n",
      "C23 C25 C27           6\n",
      "B57 B59 B63 B66       5\n",
      "G6                    5\n",
      "D                     4\n",
      "Name: count, dtype: int64\n",
      "\n",
      "ticket: 930 unique values\n",
      "Sample of values (first 5):\n",
      "ticket\n",
      "CA. 2343    11\n",
      "CA 2144      8\n",
      "1601         8\n",
      "PC 17608     7\n",
      "347082       7\n",
      "Name: count, dtype: int64\n",
      "\n",
      "boat: 28 unique values\n",
      "Sample of values (first 5):\n",
      "boat\n",
      "NaN    824\n",
      "13      39\n",
      "C       38\n",
      "15      37\n",
      "14      33\n",
      "Name: count, dtype: int64\n",
      "\n",
      "home.dest: 370 unique values\n",
      "Sample of values (first 5):\n",
      "home.dest\n",
      "NaN                     565\n",
      "New York, NY             64\n",
      "London                   14\n",
      "Montreal, PQ             10\n",
      "Cornwall / Akron, OH      9\n",
      "Name: count, dtype: int64\n",
      "\n",
      "name: 1308 unique values\n",
      "Sample of values (first 5):\n",
      "name\n",
      "Connolly, Miss. Kate              2\n",
      "Kelly, Mr. James                  2\n",
      "Allen, Miss. Elisabeth Walton     1\n",
      "Allison, Master. Hudson Trevor    1\n",
      "Allison, Miss. Helen Loraine      1\n",
      "Name: count, dtype: int64\n"
     ]
    }
   ],
   "source": [
    "# ------ TEST -------\n",
    "print(\"Number of unique values in each categorical variable:\")\n",
    "\n",
    "for column in ['sex', 'embarked', 'cabin', 'ticket', 'boat', 'home.dest', 'name']:\n",
    "    n_unique = df[column].fillna('Missing').nunique()\n",
    "    print(f\"\\n{column}: {n_unique} unique values\")\n",
    "    \n",
    "    # Show value counts for variables with fewer categories\n",
    "    if n_unique < 10:  # Only show distribution for variables with less than 10 categories\n",
    "        print(\"\\nValue distribution:\")\n",
    "        print(df[column].value_counts(dropna=False))  # Include NaN values in the count\n",
    "    else:\n",
    "        print(f\"Sample of values (first 5):\")\n",
    "        print(df[column].value_counts(dropna=False).head())\n"
   ]
  },
  {
   "cell_type": "code",
   "execution_count": 28,
   "metadata": {},
   "outputs": [
    {
     "name": "stdout",
     "output_type": "stream",
     "text": [
      "Number of unique values in each categorical variable:\n",
      "sex: 2 unique values\n",
      "\n",
      "Value distribution:\n",
      "sex\n",
      "male      843\n",
      "female    466\n",
      "Name: count, dtype: int64\n",
      "embarked: 3 unique values\n",
      "\n",
      "Value distribution:\n",
      "embarked\n",
      "S    914\n",
      "C    270\n",
      "Q    123\n",
      "Name: count, dtype: int64\n",
      "cabin: 186 unique values\n",
      "\n",
      "Too many values to display (186 unique values)\n",
      "ticket: 929 unique values\n",
      "\n",
      "Too many values to display (929 unique values)\n",
      "boat: 27 unique values\n",
      "\n",
      "Too many values to display (27 unique values)\n",
      "home.dest: 369 unique values\n",
      "\n",
      "Too many values to display (369 unique values)\n",
      "name: 1307 unique values\n",
      "\n",
      "Too many values to display (1307 unique values)\n"
     ]
    }
   ],
   "source": [
    "print(\"Number of unique values in each categorical variable:\")\n",
    "\n",
    "for column in ['sex', 'embarked', 'cabin', 'ticket', 'boat', 'home.dest', 'name']:\n",
    "    n_unique = df[column].nunique()\n",
    "    print(f\"{column}: {n_unique} unique values\")\n",
    "    \n",
    "    if n_unique < 10:  \n",
    "        print(\"\\nValue distribution:\")\n",
    "        print(df[column].value_counts())\n",
    "    else:\n",
    "        print(f\"\\nToo many values to display ({n_unique} unique values)\")"
   ]
  },
  {
   "cell_type": "code",
   "execution_count": 30,
   "metadata": {},
   "outputs": [
    {
     "name": "stdout",
     "output_type": "stream",
     "text": [
      "Value distribution of home.dest\n",
      "\n",
      "Total number of rows: 1310\n",
      "Number of missing values: 565\n",
      "Number of unique destinations: 369\n",
      "Percentage of missing values: 43.13%\n",
      "\n"
     ]
    }
   ],
   "source": [
    "# separate code for home.dest because output above was too long\n",
    "print(\"Value distribution of home.dest\\n\")\n",
    "\n",
    "total_rows = len(df)\n",
    "missing_values = df['home.dest'].isna().sum()\n",
    "unique_values = df['home.dest'].nunique()\n",
    "\n",
    "print(f\"Total number of rows: {total_rows}\")\n",
    "print(f\"Number of missing values: {missing_values}\")\n",
    "print(f\"Number of unique destinations: {unique_values}\")\n",
    "print(f\"Percentage of missing values: {(missing_values/total_rows)*100:.2f}%\\n\")"
   ]
  },
  {
   "cell_type": "markdown",
   "metadata": {},
   "source": [
    "I decided to drop the features, name, ticket, and home.dest, as they have too many values and encoding them would result in high dimensionality which could affect the model negatively and it would be hard to interpret results, and I think that they dont have an impact on predicting the survival of the passesngers."
   ]
  },
  {
   "cell_type": "markdown",
   "metadata": {},
   "source": [
    "- Encoding"
   ]
  },
  {
   "cell_type": "code",
   "execution_count": 33,
   "metadata": {},
   "outputs": [
    {
     "name": "stdout",
     "output_type": "stream",
     "text": [
      "Original shape: (1310, 16)\n",
      "Encoded shape: (1310, 22)\n",
      "\n",
      "Encoded features:\n",
      "sex_female\n",
      "sex_male\n",
      "sex_nan\n",
      "deck_A\n",
      "deck_B\n",
      "deck_C\n",
      "deck_D\n",
      "deck_E\n",
      "deck_F\n",
      "deck_G\n",
      "deck_T\n",
      "deck_nan\n",
      "embarked_C\n",
      "embarked_Q\n",
      "embarked_S\n",
      "embarked_nan\n",
      "   sex_female  sex_male  sex_nan  deck_A  deck_B  deck_C  deck_D  deck_E  \\\n",
      "0         1.0       0.0      0.0     0.0     1.0     0.0     0.0     0.0   \n",
      "1         0.0       1.0      0.0     0.0     0.0     1.0     0.0     0.0   \n",
      "2         1.0       0.0      0.0     0.0     0.0     1.0     0.0     0.0   \n",
      "3         0.0       1.0      0.0     0.0     0.0     1.0     0.0     0.0   \n",
      "4         1.0       0.0      0.0     0.0     0.0     1.0     0.0     0.0   \n",
      "\n",
      "   deck_F  deck_G  deck_T  deck_nan  embarked_C  embarked_Q  embarked_S  \\\n",
      "0     0.0     0.0     0.0       0.0         0.0         0.0         1.0   \n",
      "1     0.0     0.0     0.0       0.0         0.0         0.0         1.0   \n",
      "2     0.0     0.0     0.0       0.0         0.0         0.0         1.0   \n",
      "3     0.0     0.0     0.0       0.0         0.0         0.0         1.0   \n",
      "4     0.0     0.0     0.0       0.0         0.0         0.0         1.0   \n",
      "\n",
      "   embarked_nan  \n",
      "0           0.0  \n",
      "1           0.0  \n",
      "2           0.0  \n",
      "3           0.0  \n",
      "4           0.0  \n",
      "\n",
      "Encoding Summary:\n",
      "Categories for each feature:\n",
      "\n",
      "sex:\n",
      "['female' 'male' nan]\n",
      "\n",
      "deck:\n",
      "['A' 'B' 'C' 'D' 'E' 'F' 'G' 'T' nan]\n",
      "\n",
      "embarked:\n",
      "['C' 'Q' 'S' nan]\n"
     ]
    }
   ],
   "source": [
    "import pandas as pd\n",
    "import numpy as np\n",
    "from sklearn.preprocessing import OneHotEncoder\n",
    "\n",
    "# as each value in the feature column 'cabin' starts with a letter (which I assumed is the deck), I decided to extract the deck and use that for encoding\n",
    "df['deck'] = df['cabin'].str[0]\n",
    "\n",
    "encoder = OneHotEncoder(sparse_output=False, handle_unknown='ignore')\n",
    "\n",
    "columns_to_encode = ['sex', 'deck', 'embarked']\n",
    "\n",
    "X = df[columns_to_encode]\n",
    "\n",
    "encoded_data = encoder.fit_transform(X)\n",
    "\n",
    "feature_names = encoder.get_feature_names_out(columns_to_encode)\n",
    "\n",
    "encoded_df = pd.DataFrame(\n",
    "    encoded_data,\n",
    "    columns=feature_names,\n",
    "    index=df.index\n",
    ")\n",
    "\n",
    "numerical_features = ['pclass', 'age', 'sibsp', 'parch', 'fare', 'survived']\n",
    "final_df = pd.concat([df[numerical_features], encoded_df], axis=1)\n",
    "\n",
    "print(\"Original shape:\", df.shape)\n",
    "print(\"Encoded shape:\", final_df.shape)\n",
    "\n",
    "print(\"\\nEncoded features:\")\n",
    "for column in encoded_df.columns:\n",
    "    print(column)\n",
    "\n",
    "print(encoded_df.head())\n",
    "\n",
    "final_df.to_csv('titanic_encoded.csv', index=False)\n",
    "\n",
    "# REVIEW! (whether necessary to keep or no)\n",
    "print(\"\\nEncoding Summary:\")\n",
    "print(\"Categories for each feature:\")\n",
    "for i, feature in enumerate(columns_to_encode):\n",
    "    print(f\"\\n{feature}:\")\n",
    "    print(encoder.categories_[i])"
   ]
  },
  {
   "cell_type": "markdown",
   "metadata": {},
   "source": [
    "TASK 4"
   ]
  },
  {
   "cell_type": "code",
   "execution_count": 36,
   "metadata": {},
   "outputs": [
    {
     "name": "stdout",
     "output_type": "stream",
     "text": [
      "Original vs Scaled Data:\n",
      "\n",
      "Original data statistics:\n",
      "               age         fare       pclass        sibsp        parch\n",
      "count  1046.000000  1308.000000  1309.000000  1309.000000  1309.000000\n",
      "mean     29.881135    33.295479     2.294882     0.498854     0.385027\n",
      "std      14.413500    51.758668     0.837836     1.041658     0.865560\n",
      "min       0.166700     0.000000     1.000000     0.000000     0.000000\n",
      "25%      21.000000     7.895800     2.000000     0.000000     0.000000\n",
      "50%      28.000000    14.454200     3.000000     0.000000     0.000000\n",
      "75%      39.000000    31.275000     3.000000     1.000000     0.000000\n",
      "max      80.000000   512.329200     3.000000     8.000000     9.000000\n",
      "\n",
      "Scaled data statistics:\n",
      "               age         fare       pclass        sibsp        parch\n",
      "count  1046.000000  1308.000000  1309.000000  1309.000000  1309.000000\n",
      "mean      0.372206     0.064988     0.647441     0.062357     0.042781\n",
      "std       0.180545     0.101026     0.418918     0.130207     0.096173\n",
      "min       0.000000     0.000000     0.000000     0.000000     0.000000\n",
      "25%       0.260960     0.015412     0.500000     0.000000     0.000000\n",
      "50%       0.348643     0.028213     1.000000     0.000000     0.000000\n",
      "75%       0.486430     0.061045     1.000000     0.125000     0.000000\n",
      "max       1.000000     1.000000     1.000000     1.000000     1.000000\n"
     ]
    }
   ],
   "source": [
    "import pandas as pd\n",
    "from sklearn.preprocessing import MinMaxScaler\n",
    "\n",
    "# Load your encoded data\n",
    "df = pd.read_csv('titanic_encoded.csv')\n",
    "\n",
    "# All numerical features\n",
    "numerical_features = ['age', 'fare', 'pclass', 'sibsp', 'parch']\n",
    "\n",
    "# Create copy for scaling\n",
    "df_scaled = df.copy()\n",
    "\n",
    "# Apply MinMaxScaler to all numerical features\n",
    "# This preserves non-negativity and relative distances\n",
    "scaler = MinMaxScaler()\n",
    "df_scaled[numerical_features] = scaler.fit_transform(df[numerical_features])\n",
    "\n",
    "# Save the scaled dataset\n",
    "df_scaled.to_csv('titanic_scaled.csv', index=False)\n",
    "\n",
    "# Print comparison of original and scaled data\n",
    "print(\"Original vs Scaled Data:\\n\")\n",
    "print(\"Original data statistics:\")\n",
    "print(df[numerical_features].describe())\n",
    "print(\"\\nScaled data statistics:\")\n",
    "print(df_scaled[numerical_features].describe())\n",
    "\n"
   ]
  },
  {
   "cell_type": "markdown",
   "metadata": {},
   "source": [
    "NORMALIZE DISCRETE ___ STANDARDIZE CONTINUOUS"
   ]
  },
  {
   "cell_type": "markdown",
   "metadata": {},
   "source": [
    "Difference between Standardization and Normalization and their importance\n",
    "\n",
    "Normalization: is converting an actual numerical range of values into a predefined and artificial range of values (usually in the interval [0,1] or [-1,1]). Since Normalization uses a rnage it compresses feature values (including outliers) in the range, so if the outliers are too different from the rest of the data this can affect the new normalized data.\n",
    "I decide to normalize the continuous features: 'age', and 'fare'. \n",
    "\n",
    "Standardization: is a procedure to center the data to have a mean of 0 and it scales it to have a standard deviation of 1, this results in the feature values having properties of a standatrd normal distribution.\n",
    "I decided to stardaize the discrete features: 'pclass', 'sibsp', and 'parch'\n",
    "\n",
    "Normalization tends to work better for uniformly distributed data. Whereas, Standardization tends to work bets for normally distributed data. \n",
    "\n",
    "We use feature scaling to increase the training speed of models and to ensure that features are not dominating others especially in gradient descent as large feature slow down training and this results in a better ML model with better, faster, and more accurate output."
   ]
  },
  {
   "cell_type": "markdown",
   "metadata": {},
   "source": [
    "TASK 5"
   ]
  },
  {
   "cell_type": "code",
   "execution_count": null,
   "metadata": {},
   "outputs": [],
   "source": []
  }
 ],
 "metadata": {
  "kernelspec": {
   "display_name": "Python 3",
   "language": "python",
   "name": "python3"
  },
  "language_info": {
   "codemirror_mode": {
    "name": "ipython",
    "version": 3
   },
   "file_extension": ".py",
   "mimetype": "text/x-python",
   "name": "python",
   "nbconvert_exporter": "python",
   "pygments_lexer": "ipython3",
   "version": "3.12.3"
  }
 },
 "nbformat": 4,
 "nbformat_minor": 2
}
