{
 "cells": [
  {
   "cell_type": "markdown",
   "metadata": {},
   "source": [
    "### Machine Learning Foundations (Data Preparation)\n",
    "### Individual Assignment 1 "
   ]
  },
  {
   "cell_type": "markdown",
   "metadata": {},
   "source": [
    "Link to GitHub repo: https://github.com/halayaghi-git/ML_assignment1.git"
   ]
  },
  {
   "cell_type": "markdown",
   "metadata": {},
   "source": [
    "###### I used AI for some of the comments in my code for clarification"
   ]
  },
  {
   "cell_type": "markdown",
   "metadata": {},
   "source": [
    "**Task 1: Data Loading and Initial Exploration**"
   ]
  },
  {
   "cell_type": "markdown",
   "metadata": {},
   "source": [
    "Loading the dataset"
   ]
  },
  {
   "cell_type": "code",
   "execution_count": 1,
   "metadata": {},
   "outputs": [
    {
     "data": {
      "text/html": [
       "<div>\n",
       "<style scoped>\n",
       "    .dataframe tbody tr th:only-of-type {\n",
       "        vertical-align: middle;\n",
       "    }\n",
       "\n",
       "    .dataframe tbody tr th {\n",
       "        vertical-align: top;\n",
       "    }\n",
       "\n",
       "    .dataframe thead th {\n",
       "        text-align: right;\n",
       "    }\n",
       "</style>\n",
       "<table border=\"1\" class=\"dataframe\">\n",
       "  <thead>\n",
       "    <tr style=\"text-align: right;\">\n",
       "      <th></th>\n",
       "      <th>pclass</th>\n",
       "      <th>survived</th>\n",
       "      <th>name</th>\n",
       "      <th>sex</th>\n",
       "      <th>age</th>\n",
       "      <th>sibsp</th>\n",
       "      <th>parch</th>\n",
       "      <th>ticket</th>\n",
       "      <th>fare</th>\n",
       "      <th>cabin</th>\n",
       "      <th>embarked</th>\n",
       "      <th>boat</th>\n",
       "      <th>body</th>\n",
       "      <th>home.dest</th>\n",
       "    </tr>\n",
       "  </thead>\n",
       "  <tbody>\n",
       "    <tr>\n",
       "      <th>0</th>\n",
       "      <td>1.0</td>\n",
       "      <td>1.0</td>\n",
       "      <td>Allen, Miss. Elisabeth Walton</td>\n",
       "      <td>female</td>\n",
       "      <td>29.0000</td>\n",
       "      <td>0.0</td>\n",
       "      <td>0.0</td>\n",
       "      <td>24160</td>\n",
       "      <td>211.3375</td>\n",
       "      <td>B5</td>\n",
       "      <td>S</td>\n",
       "      <td>2</td>\n",
       "      <td>NaN</td>\n",
       "      <td>St Louis, MO</td>\n",
       "    </tr>\n",
       "    <tr>\n",
       "      <th>1</th>\n",
       "      <td>1.0</td>\n",
       "      <td>1.0</td>\n",
       "      <td>Allison, Master. Hudson Trevor</td>\n",
       "      <td>male</td>\n",
       "      <td>0.9167</td>\n",
       "      <td>1.0</td>\n",
       "      <td>2.0</td>\n",
       "      <td>113781</td>\n",
       "      <td>151.5500</td>\n",
       "      <td>C22 C26</td>\n",
       "      <td>S</td>\n",
       "      <td>11</td>\n",
       "      <td>NaN</td>\n",
       "      <td>Montreal, PQ / Chesterville, ON</td>\n",
       "    </tr>\n",
       "    <tr>\n",
       "      <th>2</th>\n",
       "      <td>1.0</td>\n",
       "      <td>0.0</td>\n",
       "      <td>Allison, Miss. Helen Loraine</td>\n",
       "      <td>female</td>\n",
       "      <td>2.0000</td>\n",
       "      <td>1.0</td>\n",
       "      <td>2.0</td>\n",
       "      <td>113781</td>\n",
       "      <td>151.5500</td>\n",
       "      <td>C22 C26</td>\n",
       "      <td>S</td>\n",
       "      <td>NaN</td>\n",
       "      <td>NaN</td>\n",
       "      <td>Montreal, PQ / Chesterville, ON</td>\n",
       "    </tr>\n",
       "    <tr>\n",
       "      <th>3</th>\n",
       "      <td>1.0</td>\n",
       "      <td>0.0</td>\n",
       "      <td>Allison, Mr. Hudson Joshua Creighton</td>\n",
       "      <td>male</td>\n",
       "      <td>30.0000</td>\n",
       "      <td>1.0</td>\n",
       "      <td>2.0</td>\n",
       "      <td>113781</td>\n",
       "      <td>151.5500</td>\n",
       "      <td>C22 C26</td>\n",
       "      <td>S</td>\n",
       "      <td>NaN</td>\n",
       "      <td>135.0</td>\n",
       "      <td>Montreal, PQ / Chesterville, ON</td>\n",
       "    </tr>\n",
       "    <tr>\n",
       "      <th>4</th>\n",
       "      <td>1.0</td>\n",
       "      <td>0.0</td>\n",
       "      <td>Allison, Mrs. Hudson J C (Bessie Waldo Daniels)</td>\n",
       "      <td>female</td>\n",
       "      <td>25.0000</td>\n",
       "      <td>1.0</td>\n",
       "      <td>2.0</td>\n",
       "      <td>113781</td>\n",
       "      <td>151.5500</td>\n",
       "      <td>C22 C26</td>\n",
       "      <td>S</td>\n",
       "      <td>NaN</td>\n",
       "      <td>NaN</td>\n",
       "      <td>Montreal, PQ / Chesterville, ON</td>\n",
       "    </tr>\n",
       "  </tbody>\n",
       "</table>\n",
       "</div>"
      ],
      "text/plain": [
       "   pclass  survived                                             name     sex  \\\n",
       "0     1.0       1.0                    Allen, Miss. Elisabeth Walton  female   \n",
       "1     1.0       1.0                   Allison, Master. Hudson Trevor    male   \n",
       "2     1.0       0.0                     Allison, Miss. Helen Loraine  female   \n",
       "3     1.0       0.0             Allison, Mr. Hudson Joshua Creighton    male   \n",
       "4     1.0       0.0  Allison, Mrs. Hudson J C (Bessie Waldo Daniels)  female   \n",
       "\n",
       "       age  sibsp  parch  ticket      fare    cabin embarked boat   body  \\\n",
       "0  29.0000    0.0    0.0   24160  211.3375       B5        S    2    NaN   \n",
       "1   0.9167    1.0    2.0  113781  151.5500  C22 C26        S   11    NaN   \n",
       "2   2.0000    1.0    2.0  113781  151.5500  C22 C26        S  NaN    NaN   \n",
       "3  30.0000    1.0    2.0  113781  151.5500  C22 C26        S  NaN  135.0   \n",
       "4  25.0000    1.0    2.0  113781  151.5500  C22 C26        S  NaN    NaN   \n",
       "\n",
       "                         home.dest  \n",
       "0                     St Louis, MO  \n",
       "1  Montreal, PQ / Chesterville, ON  \n",
       "2  Montreal, PQ / Chesterville, ON  \n",
       "3  Montreal, PQ / Chesterville, ON  \n",
       "4  Montreal, PQ / Chesterville, ON  "
      ]
     },
     "execution_count": 1,
     "metadata": {},
     "output_type": "execute_result"
    }
   ],
   "source": [
    "import pandas as pd\n",
    "\n",
    "df = pd.read_csv('titanic3.csv')\n",
    "\n",
    "df.head()"
   ]
  },
  {
   "cell_type": "markdown",
   "metadata": {},
   "source": [
    "Performing EDA "
   ]
  },
  {
   "cell_type": "code",
   "execution_count": 2,
   "metadata": {},
   "outputs": [
    {
     "name": "stdout",
     "output_type": "stream",
     "text": [
      "<class 'pandas.core.frame.DataFrame'>\n",
      "RangeIndex: 1310 entries, 0 to 1309\n",
      "Data columns (total 14 columns):\n",
      " #   Column     Non-Null Count  Dtype  \n",
      "---  ------     --------------  -----  \n",
      " 0   pclass     1309 non-null   float64\n",
      " 1   survived   1309 non-null   float64\n",
      " 2   name       1309 non-null   object \n",
      " 3   sex        1309 non-null   object \n",
      " 4   age        1046 non-null   float64\n",
      " 5   sibsp      1309 non-null   float64\n",
      " 6   parch      1309 non-null   float64\n",
      " 7   ticket     1309 non-null   object \n",
      " 8   fare       1308 non-null   float64\n",
      " 9   cabin      295 non-null    object \n",
      " 10  embarked   1307 non-null   object \n",
      " 11  boat       486 non-null    object \n",
      " 12  body       121 non-null    float64\n",
      " 13  home.dest  745 non-null    object \n",
      "dtypes: float64(7), object(7)\n",
      "memory usage: 143.4+ KB\n"
     ]
    }
   ],
   "source": [
    "df.info()"
   ]
  },
  {
   "cell_type": "markdown",
   "metadata": {},
   "source": [
    "- Descriptive Statistics"
   ]
  },
  {
   "cell_type": "code",
   "execution_count": 3,
   "metadata": {},
   "outputs": [
    {
     "name": "stdout",
     "output_type": "stream",
     "text": [
      "Descriptive Statistics:\n",
      "            pclass     survived          age        sibsp        parch  \\\n",
      "count  1309.000000  1309.000000  1046.000000  1309.000000  1309.000000   \n",
      "mean      2.294882     0.381971    29.881135     0.498854     0.385027   \n",
      "std       0.837836     0.486055    14.413500     1.041658     0.865560   \n",
      "min       1.000000     0.000000     0.166700     0.000000     0.000000   \n",
      "25%       2.000000     0.000000    21.000000     0.000000     0.000000   \n",
      "50%       3.000000     0.000000    28.000000     0.000000     0.000000   \n",
      "75%       3.000000     1.000000    39.000000     1.000000     0.000000   \n",
      "max       3.000000     1.000000    80.000000     8.000000     9.000000   \n",
      "\n",
      "              fare        body  \n",
      "count  1308.000000  121.000000  \n",
      "mean     33.295479  160.809917  \n",
      "std      51.758668   97.696922  \n",
      "min       0.000000    1.000000  \n",
      "25%       7.895800   72.000000  \n",
      "50%      14.454200  155.000000  \n",
      "75%      31.275000  256.000000  \n",
      "max     512.329200  328.000000  \n"
     ]
    }
   ],
   "source": [
    "descriptive_stats = df.describe()\n",
    "print(\"Descriptive Statistics:\")\n",
    "print(descriptive_stats)"
   ]
  },
  {
   "cell_type": "markdown",
   "metadata": {},
   "source": [
    "- Shape"
   ]
  },
  {
   "cell_type": "code",
   "execution_count": 4,
   "metadata": {},
   "outputs": [
    {
     "name": "stdout",
     "output_type": "stream",
     "text": [
      "Dataset Shape: 1310 rows and 14 columns\n",
      "\n"
     ]
    }
   ],
   "source": [
    "print(f\"Dataset Shape: {df.shape[0]} rows and {df.shape[1]} columns\\n\")"
   ]
  },
  {
   "cell_type": "markdown",
   "metadata": {},
   "source": [
    "- Data types, numerical/categorical"
   ]
  },
  {
   "cell_type": "code",
   "execution_count": 5,
   "metadata": {},
   "outputs": [
    {
     "name": "stdout",
     "output_type": "stream",
     "text": [
      "Data Types:\n",
      "pclass       float64\n",
      "survived     float64\n",
      "name          object\n",
      "sex           object\n",
      "age          float64\n",
      "sibsp        float64\n",
      "parch        float64\n",
      "ticket        object\n",
      "fare         float64\n",
      "cabin         object\n",
      "embarked      object\n",
      "boat          object\n",
      "body         float64\n",
      "home.dest     object\n",
      "dtype: object\n",
      "\n",
      "\n"
     ]
    }
   ],
   "source": [
    "print(\"Data Types:\")\n",
    "print(df.dtypes)\n",
    "print(\"\\n\")"
   ]
  },
  {
   "cell_type": "code",
   "execution_count": 6,
   "metadata": {},
   "outputs": [
    {
     "name": "stdout",
     "output_type": "stream",
     "text": [
      "Number of duplicate rows: 0\n"
     ]
    }
   ],
   "source": [
    "duplicates = df.duplicated().sum()\n",
    "print(f\"Number of duplicate rows: {duplicates}\")"
   ]
  },
  {
   "cell_type": "markdown",
   "metadata": {},
   "source": [
    "- Visualizing (to get a better understanding of the statistical data)"
   ]
  },
  {
   "cell_type": "code",
   "execution_count": 7,
   "metadata": {},
   "outputs": [
    {
     "name": "stdout",
     "output_type": "stream",
     "text": [
      "['Solarize_Light2', '_classic_test_patch', '_mpl-gallery', '_mpl-gallery-nogrid', 'bmh', 'classic', 'dark_background', 'fast', 'fivethirtyeight', 'ggplot', 'grayscale', 'petroff10', 'seaborn-v0_8', 'seaborn-v0_8-bright', 'seaborn-v0_8-colorblind', 'seaborn-v0_8-dark', 'seaborn-v0_8-dark-palette', 'seaborn-v0_8-darkgrid', 'seaborn-v0_8-deep', 'seaborn-v0_8-muted', 'seaborn-v0_8-notebook', 'seaborn-v0_8-paper', 'seaborn-v0_8-pastel', 'seaborn-v0_8-poster', 'seaborn-v0_8-talk', 'seaborn-v0_8-ticks', 'seaborn-v0_8-white', 'seaborn-v0_8-whitegrid', 'tableau-colorblind10']\n"
     ]
    }
   ],
   "source": [
    "import matplotlib.pyplot as plt\n",
    "\n",
    "print(plt.style.available)"
   ]
  },
  {
   "cell_type": "markdown",
   "metadata": {},
   "source": [
    "Since the data is not normally distributed, I will use the boxplot to understand the outliers. I determined that it is not normally distributed because the data the median is not the same as the mean (not symmetric)."
   ]
  },
  {
   "cell_type": "code",
   "execution_count": 8,
   "metadata": {},
   "outputs": [
    {
     "data": {
      "image/png": "[encoded data removed]",
      "text/plain": [
       "<Figure size 800x500 with 1 Axes>"
      ]
     },
     "metadata": {},
     "output_type": "display_data"
    },
    {
     "data": {
      "image/png": "[encoded data removed]",
      "text/plain": [
       "<Figure size 800x500 with 1 Axes>"
      ]
     },
     "metadata": {},
     "output_type": "display_data"
    }
   ],
   "source": [
    "import pandas as pd\n",
    "import matplotlib.pyplot as plt\n",
    "import seaborn as sns\n",
    "\n",
    "plt.style.use('seaborn-v0_8')  \n",
    "\n",
    "df = pd.read_csv('titanic3.csv') \n",
    "\n",
    "plt.figure(figsize=(8, 5))\n",
    "sns.boxplot(x=df[\"fare\"])\n",
    "plt.title(\"Boxplot of Fare\")\n",
    "plt.show()\n",
    "\n",
    "plt.figure(figsize=(8, 5))\n",
    "sns.boxplot(x=df[\"age\"])\n",
    "plt.title(\"Boxplot of Age\")\n",
    "plt.show()"
   ]
  },
  {
   "cell_type": "markdown",
   "metadata": {},
   "source": [
    "According to the outputs of the boxplot:\n",
    "\n",
    "Fare: The boxplot is right skewed, and this tells us that there are some outliers in the data.\n",
    "\n",
    "Age: The boxplot is left skewed, and this tells us that there are some outliers in the data."
   ]
  },
  {
   "cell_type": "markdown",
   "metadata": {},
   "source": [
    "**TASK 2: Managing Missing Values**"
   ]
  },
  {
   "cell_type": "code",
   "execution_count": 9,
   "metadata": {},
   "outputs": [
    {
     "name": "stdout",
     "output_type": "stream",
     "text": [
      "pclass          1\n",
      "survived        1\n",
      "name            1\n",
      "sex             1\n",
      "age           264\n",
      "sibsp           1\n",
      "parch           1\n",
      "ticket          1\n",
      "fare            2\n",
      "cabin        1015\n",
      "embarked        3\n",
      "boat          824\n",
      "body         1189\n",
      "home.dest     565\n",
      "dtype: int64\n"
     ]
    }
   ],
   "source": [
    "missing_values = df.isnull().sum() \n",
    "\n",
    "missing_values = missing_values[missing_values > 0] \n",
    "\n",
    "print(missing_values) # this displays the number of missing values in each feature"
   ]
  },
  {
   "cell_type": "markdown",
   "metadata": {},
   "source": [
    "1. Replace with mean for the features 'age' and 'fare', 'age' is continuous, and 'fare' only has a few missing values. Another method that I could've used is removing the rows with missing values since they're only a few, but I chose to replace with mean since they're both continuous features."
   ]
  },
  {
   "cell_type": "code",
   "execution_count": 10,
   "metadata": {},
   "outputs": [
    {
     "name": "stderr",
     "output_type": "stream",
     "text": [
      "C:\\Users\\halay\\AppData\\Local\\Temp\\ipykernel_22112\\883390424.py:1: FutureWarning: A value is trying to be set on a copy of a DataFrame or Series through chained assignment using an inplace method.\n",
      "The behavior will change in pandas 3.0. This inplace method will never work because the intermediate object on which we are setting values always behaves as a copy.\n",
      "\n",
      "For example, when doing 'df[col].method(value, inplace=True)', try using 'df.method({col: value}, inplace=True)' or df[col] = df[col].method(value) instead, to perform the operation inplace on the original object.\n",
      "\n",
      "\n",
      "  df['age'].fillna(df['age'].mean(), inplace=True)\n",
      "C:\\Users\\halay\\AppData\\Local\\Temp\\ipykernel_22112\\883390424.py:2: FutureWarning: A value is trying to be set on a copy of a DataFrame or Series through chained assignment using an inplace method.\n",
      "The behavior will change in pandas 3.0. This inplace method will never work because the intermediate object on which we are setting values always behaves as a copy.\n",
      "\n",
      "For example, when doing 'df[col].method(value, inplace=True)', try using 'df.method({col: value}, inplace=True)' or df[col] = df[col].method(value) instead, to perform the operation inplace on the original object.\n",
      "\n",
      "\n",
      "  df['fare'].fillna(df['fare'].mean(), inplace=True)\n"
     ]
    }
   ],
   "source": [
    "df['age'].fillna(df['age'].mean(), inplace=True)\n",
    "df['fare'].fillna(df['fare'].mean(), inplace=True)"
   ]
  },
  {
   "cell_type": "markdown",
   "metadata": {},
   "source": [
    "2. Replacing with '-1' or 'unknown' for the features 'sex', 'cabin', 'boat', 'body', and 'home.dest' to avoid assumptions, or fill in missing patterns (for 'home.dest' for example). I used '-1' for numerical features and 'unknown' for categorical features. For these features, I chose this method because I cannot make assumptions. Also, replacing with '-1' and 'unknown' shows the model that there are abnormal values in place of the missing values."
   ]
  },
  {
   "cell_type": "code",
   "execution_count": 11,
   "metadata": {},
   "outputs": [
    {
     "name": "stderr",
     "output_type": "stream",
     "text": [
      "C:\\Users\\halay\\AppData\\Local\\Temp\\ipykernel_22112\\1475066345.py:1: FutureWarning: A value is trying to be set on a copy of a DataFrame or Series through chained assignment using an inplace method.\n",
      "The behavior will change in pandas 3.0. This inplace method will never work because the intermediate object on which we are setting values always behaves as a copy.\n",
      "\n",
      "For example, when doing 'df[col].method(value, inplace=True)', try using 'df.method({col: value}, inplace=True)' or df[col] = df[col].method(value) instead, to perform the operation inplace on the original object.\n",
      "\n",
      "\n",
      "  df['sex'].fillna(\"Unknown\", inplace=True)\n",
      "C:\\Users\\halay\\AppData\\Local\\Temp\\ipykernel_22112\\1475066345.py:2: FutureWarning: A value is trying to be set on a copy of a DataFrame or Series through chained assignment using an inplace method.\n",
      "The behavior will change in pandas 3.0. This inplace method will never work because the intermediate object on which we are setting values always behaves as a copy.\n",
      "\n",
      "For example, when doing 'df[col].method(value, inplace=True)', try using 'df.method({col: value}, inplace=True)' or df[col] = df[col].method(value) instead, to perform the operation inplace on the original object.\n",
      "\n",
      "\n",
      "  df['cabin'].fillna(\"Unknown\", inplace=True)\n",
      "C:\\Users\\halay\\AppData\\Local\\Temp\\ipykernel_22112\\1475066345.py:3: FutureWarning: A value is trying to be set on a copy of a DataFrame or Series through chained assignment using an inplace method.\n",
      "The behavior will change in pandas 3.0. This inplace method will never work because the intermediate object on which we are setting values always behaves as a copy.\n",
      "\n",
      "For example, when doing 'df[col].method(value, inplace=True)', try using 'df.method({col: value}, inplace=True)' or df[col] = df[col].method(value) instead, to perform the operation inplace on the original object.\n",
      "\n",
      "\n",
      "  df['boat'].fillna(-1, inplace=True)\n",
      "C:\\Users\\halay\\AppData\\Local\\Temp\\ipykernel_22112\\1475066345.py:4: FutureWarning: A value is trying to be set on a copy of a DataFrame or Series through chained assignment using an inplace method.\n",
      "The behavior will change in pandas 3.0. This inplace method will never work because the intermediate object on which we are setting values always behaves as a copy.\n",
      "\n",
      "For example, when doing 'df[col].method(value, inplace=True)', try using 'df.method({col: value}, inplace=True)' or df[col] = df[col].method(value) instead, to perform the operation inplace on the original object.\n",
      "\n",
      "\n",
      "  df['body'].fillna(-1, inplace=True)\n",
      "C:\\Users\\halay\\AppData\\Local\\Temp\\ipykernel_22112\\1475066345.py:5: FutureWarning: A value is trying to be set on a copy of a DataFrame or Series through chained assignment using an inplace method.\n",
      "The behavior will change in pandas 3.0. This inplace method will never work because the intermediate object on which we are setting values always behaves as a copy.\n",
      "\n",
      "For example, when doing 'df[col].method(value, inplace=True)', try using 'df.method({col: value}, inplace=True)' or df[col] = df[col].method(value) instead, to perform the operation inplace on the original object.\n",
      "\n",
      "\n",
      "  df['home.dest'].fillna(\"Unknown\", inplace=True)\n"
     ]
    }
   ],
   "source": [
    "df['sex'].fillna(\"Unknown\", inplace=True)\n",
    "df['cabin'].fillna(\"Unknown\", inplace=True)\n",
    "df['boat'].fillna(-1, inplace=True)\n",
    "df['body'].fillna(-1, inplace=True)\n",
    "df['home.dest'].fillna(\"Unknown\", inplace=True)"
   ]
  },
  {
   "cell_type": "markdown",
   "metadata": {},
   "source": [
    "3. Replacing with most frequent value for the feature 'embarked' since it only has a few missing values and it is categorical. I used 'mode' because it is the most probable. "
   ]
  },
  {
   "cell_type": "code",
   "execution_count": 12,
   "metadata": {},
   "outputs": [
    {
     "name": "stderr",
     "output_type": "stream",
     "text": [
      "C:\\Users\\halay\\AppData\\Local\\Temp\\ipykernel_22112\\1964997694.py:1: FutureWarning: A value is trying to be set on a copy of a DataFrame or Series through chained assignment using an inplace method.\n",
      "The behavior will change in pandas 3.0. This inplace method will never work because the intermediate object on which we are setting values always behaves as a copy.\n",
      "\n",
      "For example, when doing 'df[col].method(value, inplace=True)', try using 'df.method({col: value}, inplace=True)' or df[col] = df[col].method(value) instead, to perform the operation inplace on the original object.\n",
      "\n",
      "\n",
      "  df['embarked'].fillna(df['embarked'].mode()[0], inplace=True)\n"
     ]
    }
   ],
   "source": [
    "df['embarked'].fillna(df['embarked'].mode()[0], inplace=True)"
   ]
  },
  {
   "cell_type": "markdown",
   "metadata": {},
   "source": [
    "4. Removing rows with very few missing values as it will have no major difference because I'm not removing too much relevant data. I did that for the features 'pclass', 'survived', 'name', 'sibsp', 'parch', and 'ticket'."
   ]
  },
  {
   "cell_type": "code",
   "execution_count": 13,
   "metadata": {},
   "outputs": [],
   "source": [
    "df.dropna(subset=['pclass', 'survived', 'name', 'sibsp', 'parch', 'ticket'], inplace=True)"
   ]
  },
  {
   "cell_type": "markdown",
   "metadata": {},
   "source": [
    "- The dataset without missing values"
   ]
  },
  {
   "cell_type": "code",
   "execution_count": 14,
   "metadata": {},
   "outputs": [],
   "source": [
    "df.to_csv(\"titanic_new.csv\", index=False)"
   ]
  },
  {
   "cell_type": "code",
   "execution_count": 15,
   "metadata": {},
   "outputs": [
    {
     "data": {
      "text/html": [
       "<div>\n",
       "<style scoped>\n",
       "    .dataframe tbody tr th:only-of-type {\n",
       "        vertical-align: middle;\n",
       "    }\n",
       "\n",
       "    .dataframe tbody tr th {\n",
       "        vertical-align: top;\n",
       "    }\n",
       "\n",
       "    .dataframe thead th {\n",
       "        text-align: right;\n",
       "    }\n",
       "</style>\n",
       "<table border=\"1\" class=\"dataframe\">\n",
       "  <thead>\n",
       "    <tr style=\"text-align: right;\">\n",
       "      <th></th>\n",
       "      <th>pclass</th>\n",
       "      <th>survived</th>\n",
       "      <th>name</th>\n",
       "      <th>sex</th>\n",
       "      <th>age</th>\n",
       "      <th>sibsp</th>\n",
       "      <th>parch</th>\n",
       "      <th>ticket</th>\n",
       "      <th>fare</th>\n",
       "      <th>cabin</th>\n",
       "      <th>embarked</th>\n",
       "      <th>boat</th>\n",
       "      <th>body</th>\n",
       "      <th>home.dest</th>\n",
       "    </tr>\n",
       "  </thead>\n",
       "  <tbody>\n",
       "    <tr>\n",
       "      <th>0</th>\n",
       "      <td>1.0</td>\n",
       "      <td>1.0</td>\n",
       "      <td>Allen, Miss. Elisabeth Walton</td>\n",
       "      <td>female</td>\n",
       "      <td>29.0000</td>\n",
       "      <td>0.0</td>\n",
       "      <td>0.0</td>\n",
       "      <td>24160</td>\n",
       "      <td>211.3375</td>\n",
       "      <td>B5</td>\n",
       "      <td>S</td>\n",
       "      <td>2</td>\n",
       "      <td>-1.0</td>\n",
       "      <td>St Louis, MO</td>\n",
       "    </tr>\n",
       "    <tr>\n",
       "      <th>1</th>\n",
       "      <td>1.0</td>\n",
       "      <td>1.0</td>\n",
       "      <td>Allison, Master. Hudson Trevor</td>\n",
       "      <td>male</td>\n",
       "      <td>0.9167</td>\n",
       "      <td>1.0</td>\n",
       "      <td>2.0</td>\n",
       "      <td>113781</td>\n",
       "      <td>151.5500</td>\n",
       "      <td>C22 C26</td>\n",
       "      <td>S</td>\n",
       "      <td>11</td>\n",
       "      <td>-1.0</td>\n",
       "      <td>Montreal, PQ / Chesterville, ON</td>\n",
       "    </tr>\n",
       "    <tr>\n",
       "      <th>2</th>\n",
       "      <td>1.0</td>\n",
       "      <td>0.0</td>\n",
       "      <td>Allison, Miss. Helen Loraine</td>\n",
       "      <td>female</td>\n",
       "      <td>2.0000</td>\n",
       "      <td>1.0</td>\n",
       "      <td>2.0</td>\n",
       "      <td>113781</td>\n",
       "      <td>151.5500</td>\n",
       "      <td>C22 C26</td>\n",
       "      <td>S</td>\n",
       "      <td>-1</td>\n",
       "      <td>-1.0</td>\n",
       "      <td>Montreal, PQ / Chesterville, ON</td>\n",
       "    </tr>\n",
       "    <tr>\n",
       "      <th>3</th>\n",
       "      <td>1.0</td>\n",
       "      <td>0.0</td>\n",
       "      <td>Allison, Mr. Hudson Joshua Creighton</td>\n",
       "      <td>male</td>\n",
       "      <td>30.0000</td>\n",
       "      <td>1.0</td>\n",
       "      <td>2.0</td>\n",
       "      <td>113781</td>\n",
       "      <td>151.5500</td>\n",
       "      <td>C22 C26</td>\n",
       "      <td>S</td>\n",
       "      <td>-1</td>\n",
       "      <td>135.0</td>\n",
       "      <td>Montreal, PQ / Chesterville, ON</td>\n",
       "    </tr>\n",
       "    <tr>\n",
       "      <th>4</th>\n",
       "      <td>1.0</td>\n",
       "      <td>0.0</td>\n",
       "      <td>Allison, Mrs. Hudson J C (Bessie Waldo Daniels)</td>\n",
       "      <td>female</td>\n",
       "      <td>25.0000</td>\n",
       "      <td>1.0</td>\n",
       "      <td>2.0</td>\n",
       "      <td>113781</td>\n",
       "      <td>151.5500</td>\n",
       "      <td>C22 C26</td>\n",
       "      <td>S</td>\n",
       "      <td>-1</td>\n",
       "      <td>-1.0</td>\n",
       "      <td>Montreal, PQ / Chesterville, ON</td>\n",
       "    </tr>\n",
       "  </tbody>\n",
       "</table>\n",
       "</div>"
      ],
      "text/plain": [
       "   pclass  survived                                             name     sex  \\\n",
       "0     1.0       1.0                    Allen, Miss. Elisabeth Walton  female   \n",
       "1     1.0       1.0                   Allison, Master. Hudson Trevor    male   \n",
       "2     1.0       0.0                     Allison, Miss. Helen Loraine  female   \n",
       "3     1.0       0.0             Allison, Mr. Hudson Joshua Creighton    male   \n",
       "4     1.0       0.0  Allison, Mrs. Hudson J C (Bessie Waldo Daniels)  female   \n",
       "\n",
       "       age  sibsp  parch  ticket      fare    cabin embarked boat   body  \\\n",
       "0  29.0000    0.0    0.0   24160  211.3375       B5        S    2   -1.0   \n",
       "1   0.9167    1.0    2.0  113781  151.5500  C22 C26        S   11   -1.0   \n",
       "2   2.0000    1.0    2.0  113781  151.5500  C22 C26        S   -1   -1.0   \n",
       "3  30.0000    1.0    2.0  113781  151.5500  C22 C26        S   -1  135.0   \n",
       "4  25.0000    1.0    2.0  113781  151.5500  C22 C26        S   -1   -1.0   \n",
       "\n",
       "                         home.dest  \n",
       "0                     St Louis, MO  \n",
       "1  Montreal, PQ / Chesterville, ON  \n",
       "2  Montreal, PQ / Chesterville, ON  \n",
       "3  Montreal, PQ / Chesterville, ON  \n",
       "4  Montreal, PQ / Chesterville, ON  "
      ]
     },
     "execution_count": 15,
     "metadata": {},
     "output_type": "execute_result"
    }
   ],
   "source": [
    "import pandas as pd\n",
    "df = pd.read_csv('titanic_new.csv')\n",
    "df.head()"
   ]
  },
  {
   "cell_type": "markdown",
   "metadata": {},
   "source": [
    "**TASK 3: Encoding Categorical Variables**"
   ]
  },
  {
   "cell_type": "code",
   "execution_count": 16,
   "metadata": {},
   "outputs": [
    {
     "name": "stdout",
     "output_type": "stream",
     "text": [
      "c:\\Users\\halay\\OneDrive\\Documents\\Database\\venv\\Scripts\\python.exe\n"
     ]
    }
   ],
   "source": [
    "import sys\n",
    "print(sys.executable)"
   ]
  },
  {
   "cell_type": "code",
   "execution_count": 17,
   "metadata": {},
   "outputs": [],
   "source": [
    "from sklearn.preprocessing import OneHotEncoder"
   ]
  },
  {
   "cell_type": "markdown",
   "metadata": {},
   "source": [
    "- Identifying the categorical variables"
   ]
  },
  {
   "cell_type": "code",
   "execution_count": 18,
   "metadata": {},
   "outputs": [
    {
     "name": "stdout",
     "output_type": "stream",
     "text": [
      "Categorical variables: Index(['name', 'sex', 'ticket', 'cabin', 'embarked', 'boat', 'home.dest'], dtype='object')\n"
     ]
    }
   ],
   "source": [
    "categorical_vars = df.select_dtypes(include=['object']).columns\n",
    "print(\"Categorical variables:\", categorical_vars)"
   ]
  },
  {
   "cell_type": "code",
   "execution_count": 19,
   "metadata": {},
   "outputs": [
    {
     "name": "stdout",
     "output_type": "stream",
     "text": [
      "Number of unique values in each categorical variable:\n",
      "\n",
      "sex: 2 unique values\n",
      "Value distribution:\n",
      "sex\n",
      "male      843\n",
      "female    466\n",
      "Name: count, dtype: int64\n",
      "\n",
      "embarked: 3 unique values\n",
      "Value distribution:\n",
      "embarked\n",
      "S    916\n",
      "C    270\n",
      "Q    123\n",
      "Name: count, dtype: int64\n",
      "\n",
      "cabin: 187 unique values\n",
      "Too many values to display (187 unique values)\n",
      "\n",
      "ticket: 929 unique values\n",
      "Too many values to display (929 unique values)\n",
      "\n",
      "boat: 28 unique values\n",
      "Too many values to display (28 unique values)\n",
      "\n",
      "home.dest: 370 unique values\n",
      "Too many values to display (370 unique values)\n",
      "\n",
      "name: 1307 unique values\n",
      "Too many values to display (1307 unique values)\n",
      "\n"
     ]
    }
   ],
   "source": [
    "print(\"Number of unique values in each categorical variable:\\n\")\n",
    "\n",
    "for column in ['sex', 'embarked', 'cabin', 'ticket', 'boat', 'home.dest', 'name']:\n",
    "    n_unique = df[column].nunique()\n",
    "    print(f\"{column}: {n_unique} unique values\")\n",
    "    \n",
    "    if n_unique < 10:  \n",
    "        print(\"Value distribution:\")\n",
    "        print(df[column].value_counts())\n",
    "        print()\n",
    "    else:\n",
    "        print(f\"Too many values to display ({n_unique} unique values)\\n\")"
   ]
  },
  {
   "cell_type": "markdown",
   "metadata": {},
   "source": [
    "I decided to drop the features, name, ticket, and home.dest, as they have too many values and encoding them would result in high dimensionality which could affect the model negatively and it would be hard to interpret results, and I think that they don't have an impact on predicting the survival of the passesngers."
   ]
  },
  {
   "cell_type": "markdown",
   "metadata": {},
   "source": [
    "- Encoding"
   ]
  },
  {
   "cell_type": "code",
   "execution_count": 20,
   "metadata": {},
   "outputs": [
    {
     "name": "stdout",
     "output_type": "stream",
     "text": [
      "Original shape: (1309, 15)\n",
      "Encoded shape: (1309, 20)\n",
      "\n",
      "Encoded features:\n",
      "sex_female\n",
      "sex_male\n",
      "deck_A\n",
      "deck_B\n",
      "deck_C\n",
      "deck_D\n",
      "deck_E\n",
      "deck_F\n",
      "deck_G\n",
      "deck_T\n",
      "deck_U\n",
      "embarked_C\n",
      "embarked_Q\n",
      "embarked_S\n",
      "   sex_female  sex_male  deck_A  deck_B  deck_C  deck_D  deck_E  deck_F  \\\n",
      "0         1.0       0.0     0.0     1.0     0.0     0.0     0.0     0.0   \n",
      "1         0.0       1.0     0.0     0.0     1.0     0.0     0.0     0.0   \n",
      "2         1.0       0.0     0.0     0.0     1.0     0.0     0.0     0.0   \n",
      "3         0.0       1.0     0.0     0.0     1.0     0.0     0.0     0.0   \n",
      "4         1.0       0.0     0.0     0.0     1.0     0.0     0.0     0.0   \n",
      "\n",
      "   deck_G  deck_T  deck_U  embarked_C  embarked_Q  embarked_S  \n",
      "0     0.0     0.0     0.0         0.0         0.0         1.0  \n",
      "1     0.0     0.0     0.0         0.0         0.0         1.0  \n",
      "2     0.0     0.0     0.0         0.0         0.0         1.0  \n",
      "3     0.0     0.0     0.0         0.0         0.0         1.0  \n",
      "4     0.0     0.0     0.0         0.0         0.0         1.0  \n",
      "\n",
      "Encoding Summary:\n",
      "Categories for each feature:\n",
      "\n",
      "sex:\n",
      "['female' 'male']\n",
      "\n",
      "deck:\n",
      "['A' 'B' 'C' 'D' 'E' 'F' 'G' 'T' 'U']\n",
      "\n",
      "embarked:\n",
      "['C' 'Q' 'S']\n"
     ]
    }
   ],
   "source": [
    "import pandas as pd\n",
    "import numpy as np\n",
    "from sklearn.preprocessing import OneHotEncoder\n",
    "\n",
    "# as each value in the feature column 'cabin' starts with a letter (which I assumed is the deck), I decided to extract the deck and use that for encoding\n",
    "df['deck'] = df['cabin'].str[0]\n",
    "\n",
    "encoder = OneHotEncoder(sparse_output=False, handle_unknown='ignore')\n",
    "\n",
    "columns_to_encode = ['sex', 'deck', 'embarked']\n",
    "\n",
    "X = df[columns_to_encode]\n",
    "\n",
    "encoded_data = encoder.fit_transform(X)\n",
    "\n",
    "feature_names = encoder.get_feature_names_out(columns_to_encode)\n",
    "\n",
    "encoded_df = pd.DataFrame(\n",
    "    encoded_data,\n",
    "    columns=feature_names,\n",
    "    index=df.index\n",
    ")\n",
    "\n",
    "numerical_features = ['pclass', 'age', 'sibsp', 'parch', 'fare', 'survived']\n",
    "final_df = pd.concat([df[numerical_features], encoded_df], axis=1)\n",
    "\n",
    "print(\"Original shape:\", df.shape)\n",
    "print(\"Encoded shape:\", final_df.shape)\n",
    "\n",
    "print(\"\\nEncoded features:\")\n",
    "for column in encoded_df.columns:\n",
    "    print(column)\n",
    "\n",
    "print(encoded_df.head())\n",
    "\n",
    "final_df.to_csv('titanic_encoded.csv', index=False)\n",
    "\n",
    "\n",
    "print(\"\\nEncoding Summary:\")\n",
    "print(\"Categories for each feature:\")\n",
    "for i, feature in enumerate(columns_to_encode):\n",
    "    print(f\"\\n{feature}:\")\n",
    "    print(encoder.categories_[i])"
   ]
  },
  {
   "cell_type": "markdown",
   "metadata": {},
   "source": [
    "**TASK 4: Feature Scaling**"
   ]
  },
  {
   "cell_type": "code",
   "execution_count": 21,
   "metadata": {},
   "outputs": [
    {
     "name": "stdout",
     "output_type": "stream",
     "text": [
      "Original vs Scaled Data:\n",
      "\n",
      "Original data statistics:\n",
      "               age         fare       pclass        sibsp        parch\n",
      "count  1309.000000  1309.000000  1309.000000  1309.000000  1309.000000\n",
      "mean     29.881135    33.295479     2.294882     0.498854     0.385027\n",
      "std      12.883199    51.738879     0.837836     1.041658     0.865560\n",
      "min       0.166700     0.000000     1.000000     0.000000     0.000000\n",
      "25%      22.000000     7.895800     2.000000     0.000000     0.000000\n",
      "50%      29.881135    14.454200     3.000000     0.000000     0.000000\n",
      "75%      35.000000    31.275000     3.000000     1.000000     0.000000\n",
      "max      80.000000   512.329200     3.000000     8.000000     9.000000\n",
      "\n",
      "Scaled data statistics:\n",
      "                age          fare       pclass        sibsp        parch\n",
      "count  1.309000e+03  1.309000e+03  1309.000000  1309.000000  1309.000000\n",
      "mean   1.519878e-16  4.342507e-17     0.647441     0.062357     0.042781\n",
      "std    1.000382e+00  1.000382e+00     0.418918     0.130207     0.096173\n",
      "min   -2.307330e+00 -6.437751e-01     0.000000     0.000000     0.000000\n",
      "25%   -6.119712e-01 -4.911082e-01     0.500000     0.000000     0.000000\n",
      "50%    2.758687e-16 -3.643001e-01     1.000000     0.000000     0.000000\n",
      "75%    3.974806e-01 -3.906640e-02     1.000000     0.125000     0.000000\n",
      "max    3.891737e+00  9.262219e+00     1.000000     1.000000     1.000000\n"
     ]
    }
   ],
   "source": [
    "import pandas as pd\n",
    "from sklearn.preprocessing import MinMaxScaler, StandardScaler\n",
    "\n",
    "df = pd.read_csv('titanic_encoded.csv')\n",
    "\n",
    "numerical_features = ['age', 'fare', 'pclass', 'sibsp', 'parch']\n",
    "\n",
    "df_scaled = df.copy()\n",
    "\n",
    "standard_scaler = StandardScaler()\n",
    "minmax_scaler = MinMaxScaler()\n",
    "\n",
    "df_scaled[['age', 'fare']] = standard_scaler.fit_transform(df[numerical_features][['age', 'fare']])\n",
    "\n",
    "df_scaled[['pclass', 'sibsp', 'parch']] = minmax_scaler.fit_transform(df[numerical_features][['pclass', 'sibsp', 'parch']])\n",
    "\n",
    "df_scaled.to_csv('titanic_scaled.csv', index=False)\n",
    "\n",
    "print(\"Original vs Scaled Data:\\n\")\n",
    "print(\"Original data statistics:\")\n",
    "print(df[numerical_features].describe())\n",
    "print(\"\\nScaled data statistics:\")\n",
    "print(df_scaled[numerical_features].describe())"
   ]
  },
  {
   "cell_type": "markdown",
   "metadata": {},
   "source": [
    "Difference between Standardization and Normalization and their importance:\n",
    "\n",
    "Normalization: is converting an actual numerical range of values into a predefined and artificial range of values (usually in the interval [0,1] or [-1,1]). Since Normalization uses a range it compresses feature values (including outliers) in the range, so if the outliers are too different from the rest of the data this can affect the new normalized data.\n",
    "I decided to normalize the discrete features: 'pclass', 'sibsp' and 'fare'. \n",
    "\n",
    "Standardization: is a procedure to center the data to have a mean of 0 and it scales it to have a standard deviation of 1, this results in the feature values having properties of a standatrd normal distribution.\n",
    "I decided to standardize the continuous features: 'age', and 'fare'.\n",
    "\n",
    "Normalization tends to work better for uniformly distributed data, but in this case they are not uniformly distributed however scaling still helps to improve the data which overall improves the model's performance. Whereas, Standardization tends to work best for normally distributed data, according to the boxplot that I displayed above, they are right skewed but close to normal.\n",
    "\n",
    "We use feature scaling to increase the training speed of models and to ensure that features are not dominating others especially in gradient descent as large feature slow down training and this results in a better ML model with better, faster, and more accurate output."
   ]
  },
  {
   "cell_type": "markdown",
   "metadata": {},
   "source": [
    "**TASK 5: Data Splitting**"
   ]
  },
  {
   "cell_type": "code",
   "execution_count": 22,
   "metadata": {},
   "outputs": [
    {
     "name": "stdout",
     "output_type": "stream",
     "text": [
      "\n",
      "Dataset splits:\n",
      "Full dataset: 1309 samples\n",
      "Training set: 916 samples (70.0%)\n",
      "Validation set: 196 samples (15.0%)\n",
      "Test set: 197 samples (15.0%)\n",
      "\n",
      "Survival distribution:\n",
      "\n",
      "Full dataset:\n",
      "survived\n",
      "0.0    0.618029\n",
      "1.0    0.381971\n",
      "Name: proportion, dtype: float64\n",
      "\n",
      "Training set:\n",
      "survived\n",
      "0.0    0.617904\n",
      "1.0    0.382096\n",
      "Name: proportion, dtype: float64\n",
      "\n",
      "Validation set:\n",
      "survived\n",
      "0.0    0.617347\n",
      "1.0    0.382653\n",
      "Name: proportion, dtype: float64\n",
      "\n",
      "Test set:\n",
      "survived\n",
      "0.0    0.619289\n",
      "1.0    0.380711\n",
      "Name: proportion, dtype: float64\n"
     ]
    }
   ],
   "source": [
    "import pandas as pd\n",
    "import numpy as np\n",
    "from sklearn.model_selection import train_test_split\n",
    "\n",
    "df = pd.read_csv('titanic_scaled.csv')\n",
    "\n",
    "df = df.dropna(subset=['survived'])\n",
    "\n",
    "X = df.drop('survived', axis=1) # without target feature (survived)\n",
    "y = df['survived']\n",
    "\n",
    "\n",
    "X_train, X_temp, y_train, y_temp = train_test_split( # Splitting the dataset into training and temporary sets (temp) for further splitting into validation (val) and test sets\n",
    "    X, y,\n",
    "    test_size=0.3,\n",
    "    random_state=42,\n",
    "    stratify=y\n",
    ")\n",
    "\n",
    "X_val, X_test, y_val, y_test = train_test_split(\n",
    "    X_temp, y_temp,\n",
    "    test_size=0.5,\n",
    "    random_state=42,\n",
    "    stratify=y_temp\n",
    ")\n",
    "\n",
    "print(\"\\nDataset splits:\")\n",
    "print(f\"Full dataset: {len(X)} samples\")\n",
    "print(f\"Training set: {len(X_train)} samples ({len(X_train)/len(X)*100:.1f}%)\")\n",
    "print(f\"Validation set: {len(X_val)} samples ({len(X_val)/len(X)*100:.1f}%)\")\n",
    "print(f\"Test set: {len(X_test)} samples ({len(X_test)/len(X)*100:.1f}%)\")\n",
    "\n",
    "print(\"\\nSurvival distribution:\")\n",
    "print(\"\\nFull dataset:\")\n",
    "print(y.value_counts(normalize=True))\n",
    "print(\"\\nTraining set:\")\n",
    "print(y_train.value_counts(normalize=True))\n",
    "print(\"\\nValidation set:\")\n",
    "print(y_val.value_counts(normalize=True))\n",
    "print(\"\\nTest set:\")\n",
    "print(y_test.value_counts(normalize=True))\n",
    "\n",
    "X_train.to_csv('X_train.csv', index=False)\n",
    "X_val.to_csv('X_val.csv', index=False)\n",
    "X_test.to_csv('X_test.csv', index=False)\n",
    "y_train.to_csv('y_train.csv', index=False)\n",
    "y_val.to_csv('y_val.csv', index=False)\n",
    "y_test.to_csv('y_test.csv', index=False)"
   ]
  },
  {
   "cell_type": "markdown",
   "metadata": {},
   "source": [
    "After observing the train_test_split method you provided, I folllowed a similar approach to split my data. I first split the data into two parts, X for everything except the 'survived' feature, and y for only the 'survived' feature. I did 70 percent for training and 30 percent which was then split into two, so 15 percent for validation and 15 percent for test. I also used stratify to ensure that both splits were fair in terms of the amounts of survived/not survived."
   ]
  },
  {
   "cell_type": "markdown",
   "metadata": {},
   "source": [
    "It is usually better practice to do scaling after splitting the dataset to avoid data leakage, but in this case for this model I followed the task order of the assignment. "
   ]
  },
  {
   "cell_type": "markdown",
   "metadata": {},
   "source": [
    "**TASK 6: Addressing Class Imbalance**"
   ]
  },
  {
   "cell_type": "code",
   "execution_count": 23,
   "metadata": {},
   "outputs": [
    {
     "name": "stdout",
     "output_type": "stream",
     "text": [
      "\n",
      "Original class distribution:\n",
      "[(0.0, 566), (1.0, 350)]\n",
      "\n",
      "After SMOTE:\n",
      "[(0.0, 566), (1.0, 566)]\n",
      "\n",
      "After ADASYN:\n",
      "[(0.0, 566), (1.0, 574)]\n"
     ]
    }
   ],
   "source": [
    "from imblearn.over_sampling import SMOTE, ADASYN\n",
    "from collections import Counter\n",
    "import pandas as pd\n",
    "import numpy as np\n",
    "\n",
    "X_train = pd.read_csv('X_train.csv')\n",
    "y_train = pd.read_csv('y_train.csv')\n",
    "\n",
    "X_train = X_train.fillna(X_train.mean())\n",
    "\n",
    "print(\"\\nOriginal class distribution:\")\n",
    "print(sorted(Counter(y_train['survived']).items()))\n",
    "\n",
    "X_smote, y_smote = SMOTE(random_state=42).fit_resample(X_train, y_train['survived'])\n",
    "print(\"\\nAfter SMOTE:\")\n",
    "print(sorted(Counter(y_smote).items()))\n",
    "\n",
    "X_adasyn, y_adasyn = ADASYN(random_state=42).fit_resample(X_train, y_train['survived'])\n",
    "print(\"\\nAfter ADASYN:\")\n",
    "print(sorted(Counter(y_adasyn).items()))\n",
    "\n",
    "pd.DataFrame(X_smote, columns=X_train.columns).to_csv('X_train_smote.csv', index=False)\n",
    "pd.DataFrame(y_smote, columns=['survived']).to_csv('y_train_smote.csv', index=False)\n",
    "pd.DataFrame(X_adasyn, columns=X_train.columns).to_csv('X_train_adasyn.csv', index=False)\n",
    "pd.DataFrame(y_adasyn, columns=['survived']).to_csv('y_train_adasyn.csv', index=False)"
   ]
  },
  {
   "cell_type": "markdown",
   "metadata": {},
   "source": [
    "(In this case, the majority class is not survived, and minority class is survived.)\n",
    "\n",
    "SMOTE (Oversampling Technique): creates more values of the minority class (oversampling) by first identifying the minority class then plotting them against the other features, this balances the dataset to make the model less biased towards the majority class.\n",
    "\n",
    "ADASYN (Adaptive Synthetic Sampling Method): creates more values of the minority class but it is a bit more specific as it identifies the areas where the minority class is found and where they are surrounded by the majority class, so it specifies where the new values are needed the most."
   ]
  },
  {
   "cell_type": "markdown",
   "metadata": {},
   "source": [
    "Originally the dataset was imbalanced, with more not survivors (566) than survivors (350). After applying SMOTE, the dataset became perfectly balanced (566 each) by generating synthetic survivor samples. ADASYN also increased the number of survivors but stopped at 560, so it generated only as many samples as needed to improve balance.\n",
    "\n",
    "Before: The dataset is imbalanced (one class has significantly more samples).\n",
    "\n",
    "After: The dataset is balanced, so the model won't be biased toward the majority class."
   ]
  },
  {
   "cell_type": "markdown",
   "metadata": {},
   "source": [
    "**TASK 7: Feature Selection**"
   ]
  },
  {
   "cell_type": "code",
   "execution_count": 24,
   "metadata": {},
   "outputs": [
    {
     "name": "stdout",
     "output_type": "stream",
     "text": [
      "Original features: ['pclass', 'age', 'sibsp', 'parch', 'fare', 'sex_female', 'sex_male', 'deck_A', 'deck_B', 'deck_C', 'deck_D', 'deck_E', 'deck_F', 'deck_G', 'deck_T', 'deck_U', 'embarked_C', 'embarked_Q', 'embarked_S']\n",
      "\n",
      "Feature variances:\n",
      "pclass: 0.1769\n",
      "age: 0.9868\n",
      "sibsp: 0.0152\n",
      "parch: 0.0096\n",
      "fare: 0.9121\n",
      "sex_female: 0.2272\n",
      "sex_male: 0.2272\n",
      "deck_A: 0.0172\n",
      "deck_B: 0.0468\n",
      "deck_C: 0.0660\n",
      "deck_D: 0.0368\n",
      "deck_E: 0.0297\n",
      "deck_F: 0.0087\n",
      "deck_G: 0.0033\n",
      "deck_T: 0.0011\n",
      "deck_U: 0.1715\n",
      "embarked_C: 0.1671\n",
      "embarked_Q: 0.0913\n",
      "embarked_S: 0.2154\n",
      "\n",
      "Low variance features: ['parch', 'deck_F', 'deck_G', 'deck_T']\n"
     ]
    },
    {
     "name": "stdout",
     "output_type": "stream",
     "text": [
      "Iteration: \t1 / 100\n",
      "Confirmed: \t0\n",
      "Tentative: \t15\n",
      "Rejected: \t0\n",
      "Iteration: \t2 / 100\n",
      "Confirmed: \t0\n",
      "Tentative: \t15\n",
      "Rejected: \t0\n",
      "Iteration: \t3 / 100\n",
      "Confirmed: \t0\n",
      "Tentative: \t15\n",
      "Rejected: \t0\n",
      "Iteration: \t4 / 100\n",
      "Confirmed: \t0\n",
      "Tentative: \t15\n",
      "Rejected: \t0\n",
      "Iteration: \t5 / 100\n",
      "Confirmed: \t0\n",
      "Tentative: \t15\n",
      "Rejected: \t0\n",
      "Iteration: \t6 / 100\n",
      "Confirmed: \t0\n",
      "Tentative: \t15\n",
      "Rejected: \t0\n",
      "Iteration: \t7 / 100\n",
      "Confirmed: \t0\n",
      "Tentative: \t15\n",
      "Rejected: \t0\n",
      "Iteration: \t8 / 100\n",
      "Confirmed: \t2\n",
      "Tentative: \t2\n",
      "Rejected: \t11\n",
      "Iteration: \t9 / 100\n",
      "Confirmed: \t2\n",
      "Tentative: \t2\n",
      "Rejected: \t11\n",
      "Iteration: \t10 / 100\n",
      "Confirmed: \t2\n",
      "Tentative: \t2\n",
      "Rejected: \t11\n",
      "Iteration: \t11 / 100\n",
      "Confirmed: \t2\n",
      "Tentative: \t2\n",
      "Rejected: \t11\n",
      "Iteration: \t12 / 100\n",
      "Confirmed: \t2\n",
      "Tentative: \t2\n",
      "Rejected: \t11\n",
      "Iteration: \t13 / 100\n",
      "Confirmed: \t2\n",
      "Tentative: \t2\n",
      "Rejected: \t11\n",
      "Iteration: \t14 / 100\n",
      "Confirmed: \t2\n",
      "Tentative: \t2\n",
      "Rejected: \t11\n",
      "Iteration: \t15 / 100\n",
      "Confirmed: \t2\n",
      "Tentative: \t2\n",
      "Rejected: \t11\n",
      "Iteration: \t16 / 100\n",
      "Confirmed: \t2\n",
      "Tentative: \t2\n",
      "Rejected: \t11\n",
      "Iteration: \t17 / 100\n",
      "Confirmed: \t2\n",
      "Tentative: \t2\n",
      "Rejected: \t11\n",
      "Iteration: \t18 / 100\n",
      "Confirmed: \t2\n",
      "Tentative: \t2\n",
      "Rejected: \t11\n",
      "Iteration: \t19 / 100\n",
      "Confirmed: \t2\n",
      "Tentative: \t2\n",
      "Rejected: \t11\n",
      "Iteration: \t20 / 100\n",
      "Confirmed: \t2\n",
      "Tentative: \t2\n",
      "Rejected: \t11\n",
      "Iteration: \t21 / 100\n",
      "Confirmed: \t2\n",
      "Tentative: \t2\n",
      "Rejected: \t11\n",
      "Iteration: \t22 / 100\n",
      "Confirmed: \t2\n",
      "Tentative: \t2\n",
      "Rejected: \t11\n",
      "Iteration: \t23 / 100\n",
      "Confirmed: \t2\n",
      "Tentative: \t2\n",
      "Rejected: \t11\n",
      "Iteration: \t24 / 100\n",
      "Confirmed: \t2\n",
      "Tentative: \t2\n",
      "Rejected: \t11\n",
      "Iteration: \t25 / 100\n",
      "Confirmed: \t2\n",
      "Tentative: \t2\n",
      "Rejected: \t11\n",
      "Iteration: \t26 / 100\n",
      "Confirmed: \t2\n",
      "Tentative: \t2\n",
      "Rejected: \t11\n",
      "Iteration: \t27 / 100\n",
      "Confirmed: \t2\n",
      "Tentative: \t2\n",
      "Rejected: \t11\n",
      "Iteration: \t28 / 100\n",
      "Confirmed: \t2\n",
      "Tentative: \t2\n",
      "Rejected: \t11\n",
      "Iteration: \t29 / 100\n",
      "Confirmed: \t3\n",
      "Tentative: \t1\n",
      "Rejected: \t11\n",
      "Iteration: \t30 / 100\n",
      "Confirmed: \t3\n",
      "Tentative: \t1\n",
      "Rejected: \t11\n",
      "Iteration: \t31 / 100\n",
      "Confirmed: \t3\n",
      "Tentative: \t1\n",
      "Rejected: \t11\n",
      "Iteration: \t32 / 100\n",
      "Confirmed: \t3\n",
      "Tentative: \t1\n",
      "Rejected: \t11\n",
      "Iteration: \t33 / 100\n",
      "Confirmed: \t3\n",
      "Tentative: \t1\n",
      "Rejected: \t11\n",
      "Iteration: \t34 / 100\n",
      "Confirmed: \t3\n",
      "Tentative: \t1\n",
      "Rejected: \t11\n",
      "Iteration: \t35 / 100\n",
      "Confirmed: \t3\n",
      "Tentative: \t1\n",
      "Rejected: \t11\n",
      "Iteration: \t36 / 100\n",
      "Confirmed: \t3\n",
      "Tentative: \t1\n",
      "Rejected: \t11\n",
      "Iteration: \t37 / 100\n",
      "Confirmed: \t3\n",
      "Tentative: \t1\n",
      "Rejected: \t11\n",
      "Iteration: \t38 / 100\n",
      "Confirmed: \t3\n",
      "Tentative: \t1\n",
      "Rejected: \t11\n",
      "Iteration: \t39 / 100\n",
      "Confirmed: \t3\n",
      "Tentative: \t1\n",
      "Rejected: \t11\n",
      "Iteration: \t40 / 100\n",
      "Confirmed: \t3\n",
      "Tentative: \t1\n",
      "Rejected: \t11\n",
      "Iteration: \t41 / 100\n",
      "Confirmed: \t3\n",
      "Tentative: \t1\n",
      "Rejected: \t11\n",
      "Iteration: \t42 / 100\n",
      "Confirmed: \t3\n",
      "Tentative: \t1\n",
      "Rejected: \t11\n",
      "Iteration: \t43 / 100\n",
      "Confirmed: \t3\n",
      "Tentative: \t1\n",
      "Rejected: \t11\n",
      "Iteration: \t44 / 100\n",
      "Confirmed: \t3\n",
      "Tentative: \t1\n",
      "Rejected: \t11\n",
      "Iteration: \t45 / 100\n",
      "Confirmed: \t3\n",
      "Tentative: \t1\n",
      "Rejected: \t11\n",
      "Iteration: \t46 / 100\n",
      "Confirmed: \t3\n",
      "Tentative: \t1\n",
      "Rejected: \t11\n",
      "Iteration: \t47 / 100\n",
      "Confirmed: \t3\n",
      "Tentative: \t1\n",
      "Rejected: \t11\n",
      "Iteration: \t48 / 100\n",
      "Confirmed: \t3\n",
      "Tentative: \t1\n",
      "Rejected: \t11\n",
      "Iteration: \t49 / 100\n",
      "Confirmed: \t3\n",
      "Tentative: \t1\n",
      "Rejected: \t11\n",
      "Iteration: \t50 / 100\n",
      "Confirmed: \t3\n",
      "Tentative: \t1\n",
      "Rejected: \t11\n",
      "Iteration: \t51 / 100\n",
      "Confirmed: \t3\n",
      "Tentative: \t1\n",
      "Rejected: \t11\n",
      "Iteration: \t52 / 100\n",
      "Confirmed: \t3\n",
      "Tentative: \t1\n",
      "Rejected: \t11\n",
      "Iteration: \t53 / 100\n",
      "Confirmed: \t3\n",
      "Tentative: \t1\n",
      "Rejected: \t11\n",
      "Iteration: \t54 / 100\n",
      "Confirmed: \t3\n",
      "Tentative: \t1\n",
      "Rejected: \t11\n",
      "Iteration: \t55 / 100\n",
      "Confirmed: \t3\n",
      "Tentative: \t1\n",
      "Rejected: \t11\n",
      "Iteration: \t56 / 100\n",
      "Confirmed: \t3\n",
      "Tentative: \t1\n",
      "Rejected: \t11\n",
      "Iteration: \t57 / 100\n",
      "Confirmed: \t3\n",
      "Tentative: \t1\n",
      "Rejected: \t11\n",
      "Iteration: \t58 / 100\n",
      "Confirmed: \t3\n",
      "Tentative: \t1\n",
      "Rejected: \t11\n",
      "Iteration: \t59 / 100\n",
      "Confirmed: \t3\n",
      "Tentative: \t1\n",
      "Rejected: \t11\n",
      "Iteration: \t60 / 100\n",
      "Confirmed: \t3\n",
      "Tentative: \t1\n",
      "Rejected: \t11\n",
      "Iteration: \t61 / 100\n",
      "Confirmed: \t3\n",
      "Tentative: \t1\n",
      "Rejected: \t11\n",
      "Iteration: \t62 / 100\n",
      "Confirmed: \t3\n",
      "Tentative: \t1\n",
      "Rejected: \t11\n",
      "Iteration: \t63 / 100\n",
      "Confirmed: \t3\n",
      "Tentative: \t1\n",
      "Rejected: \t11\n",
      "Iteration: \t64 / 100\n",
      "Confirmed: \t3\n",
      "Tentative: \t1\n",
      "Rejected: \t11\n",
      "Iteration: \t65 / 100\n",
      "Confirmed: \t3\n",
      "Tentative: \t1\n",
      "Rejected: \t11\n",
      "Iteration: \t66 / 100\n",
      "Confirmed: \t3\n",
      "Tentative: \t1\n",
      "Rejected: \t11\n",
      "Iteration: \t67 / 100\n",
      "Confirmed: \t3\n",
      "Tentative: \t1\n",
      "Rejected: \t11\n",
      "Iteration: \t68 / 100\n",
      "Confirmed: \t3\n",
      "Tentative: \t1\n",
      "Rejected: \t11\n",
      "Iteration: \t69 / 100\n",
      "Confirmed: \t3\n",
      "Tentative: \t1\n",
      "Rejected: \t11\n",
      "Iteration: \t70 / 100\n",
      "Confirmed: \t3\n",
      "Tentative: \t1\n",
      "Rejected: \t11\n",
      "Iteration: \t71 / 100\n",
      "Confirmed: \t3\n",
      "Tentative: \t1\n",
      "Rejected: \t11\n",
      "Iteration: \t72 / 100\n",
      "Confirmed: \t4\n",
      "Tentative: \t0\n",
      "Rejected: \t11\n",
      "\n",
      "\n",
      "BorutaPy finished running.\n",
      "\n",
      "Iteration: \t73 / 100\n",
      "Confirmed: \t4\n",
      "Tentative: \t0\n",
      "Rejected: \t11\n",
      "\n",
      "Selected features by Boruta: ['age', 'fare', 'sex_female', 'sex_male']\n",
      "High correlation: sex_male & sex_female: -1.00\n",
      "\n",
      "Final features after removing low variance and high correlation: ['age', 'fare', 'sex_male']\n"
     ]
    }
   ],
   "source": [
    "import pandas as pd\n",
    "import numpy as np\n",
    "from sklearn.feature_selection import VarianceThreshold\n",
    "from boruta import BorutaPy\n",
    "from sklearn.ensemble import RandomForestClassifier\n",
    "\n",
    "X_train = pd.read_csv('X_train.csv')  \n",
    "y_train = pd.read_csv('y_train.csv')['survived']  # 'survived' is the target variable\n",
    "\n",
    "X_val = pd.read_csv('X_val.csv')  \n",
    "y_val = pd.read_csv('y_val.csv')['survived']  \n",
    "X_test = pd.read_csv('X_test.csv')  \n",
    "y_test = pd.read_csv('y_test.csv')['survived']  \n",
    "\n",
    "print(\"Original features:\", X_train.columns.tolist())\n",
    "\n",
    "variances = X_train.var()\n",
    "print(\"\\nFeature variances:\")\n",
    "for feature, var in variances.items():\n",
    "    print(f\"{feature}: {var:.4f}\")\n",
    "\n",
    "# Identifying and removing low variance features (variance threshold is set to 0.01, so variance < 0.01 is considered low)\n",
    "var_threshold = 0.01  \n",
    "selector = VarianceThreshold(threshold=var_threshold)\n",
    "X_train_var = pd.DataFrame(selector.fit_transform(X_train), \n",
    "                            columns=X_train.columns[selector.get_support()])\n",
    "\n",
    "low_variance_features = X_train.columns[~selector.get_support()].tolist()\n",
    "print(f\"\\nLow variance features: {low_variance_features}\")\n",
    "\n",
    "rf = RandomForestClassifier(n_estimators=100, random_state=42)\n",
    "\n",
    "boruta_selector = BorutaPy(\n",
    "    estimator=rf,\n",
    "    n_estimators='auto',\n",
    "    random_state=42,\n",
    "    verbose=2,\n",
    "    two_step=True\n",
    ")\n",
    "\n",
    "boruta_selector.fit(X_train_var.values, y_train.values)\n",
    "\n",
    "selected_features = X_train_var.columns[boruta_selector.support_].tolist()\n",
    "print(f\"\\nSelected features by Boruta: {selected_features}\")\n",
    "\n",
    "X_train_final = X_train_var[selected_features]\n",
    "\n",
    "X_val_final = X_val[selected_features]\n",
    "X_test_final = X_test[selected_features]\n",
    "\n",
    "# Identifying and removing highly correlated features (high correlation threshold is set to 0.8, so correlation > 0.8 is considered high)\n",
    "correlation_matrix = X_train_final.corr()\n",
    "corr_threshold = 0.8  \n",
    "high_corr_features = []\n",
    "\n",
    "for i in range(len(correlation_matrix.columns)):\n",
    "    for j in range(i):\n",
    "        if abs(correlation_matrix.iloc[i, j]) > corr_threshold:\n",
    "            colname_i = correlation_matrix.columns[i]\n",
    "            colname_j = correlation_matrix.columns[j]\n",
    "            corr = correlation_matrix.iloc[i, j]\n",
    "            print(f\"High correlation: {colname_i} & {colname_j}: {corr:.2f}\")\n",
    "            high_corr_features.append((colname_i, colname_j, corr))\n",
    "\n",
    "# Remove one feature from each pair of highly correlated features\n",
    "features_to_drop = set()\n",
    "for feat1, feat2, corr in high_corr_features:\n",
    "    features_to_drop.add(feat2)  # Drop the second feature in the pair\n",
    "\n",
    "\n",
    "final_features = [f for f in selected_features if f not in features_to_drop]\n",
    "print(f\"\\nFinal features after removing low variance and high correlation: {final_features}\")\n",
    "\n",
    "X_train_final = X_train_final[final_features]\n",
    "X_val_final = X_val_final[final_features]\n",
    "X_test_final = X_test_final[final_features]\n",
    "\n",
    "X_train_final.to_csv('X_train_processed_boruta.csv', index=False)\n",
    "X_val_final.to_csv('X_val_processed_boruta.csv', index=False)\n",
    "X_test_final.to_csv('X_test_processed_boruta.csv', index=False)\n",
    "\n",
    "y_train.to_csv('y_train_processed.csv', index=False)\n",
    "y_val.to_csv('y_val_processed.csv', index=False)\n",
    "y_test.to_csv('y_test_processed.csv', index=False)"
   ]
  },
  {
   "cell_type": "markdown",
   "metadata": {},
   "source": [
    "After finding the variance and identifying high correlation features, Boruta chose the following features: 'age', 'fare', and 'sex_male'. The continuous features 'age' and 'fare' have high variances of 0.9868 and 0.9121 which means that there is a significant range of age and fare prices. The features 'parch', 'deck_F', 'deck_G' and 'deck_T' were eliminated as they had low variances of 0.0096, 0.0087, 0.0033, and 0.0011 and this tells me that they aren't very significant in the dataset. As for high correlation feautures, 'sex_female' and 'sex_male' were perfectly correlated (-1), and even though they showed high correlation Boruta still decided that they are significant in the dataset so Boruta chose one of them 'sex_male', because if one of them is there we can still represent gender because they are binary features. Other features such as 'pclass' and 'sibsp' were still eliminated even though their variance isn't very low, because Boruta can decide features that are of importance in the dataset and that have a significant impact on the model."
   ]
  },
  {
   "cell_type": "markdown",
   "metadata": {},
   "source": [
    "I addressed class imbalance and did feature selection after splitting the dataset due to the following. Firstly, it helps to prevent data leakage, because the model can be 'too trained' if we split after handling imbalances as it can include information from the validation and test sets in the training set. And this applies to feature selection, so if I did that before splitting, my model will perform well on the training data, but it might not with data that it hasn't seen before. In addition, if I did tasks 6 and 7 before splitting, that would change the distribution of my data, and this would change the distribution of my validation and test sets and that would lead to data leakage because it would do oversampling (creating/adding values) from the validation and test sets. So overall, splitting before handling imbalances maintains the integrity of the validation and test sets which leads to a less biased model."
   ]
  },
  {
   "cell_type": "markdown",
   "metadata": {},
   "source": [
    "**TASK 8: Training a Logistic Regression Model**"
   ]
  },
  {
   "cell_type": "code",
   "execution_count": 25,
   "metadata": {},
   "outputs": [
    {
     "name": "stdout",
     "output_type": "stream",
     "text": [
      "Validation Accuracy: 0.8214\n",
      "\n",
      "Confusion Matrix:\n",
      "[[105  16]\n",
      " [ 19  56]]\n"
     ]
    },
    {
     "data": {
      "image/png": "[encoded data removed]",
      "text/plain": [
       "<Figure size 800x600 with 2 Axes>"
      ]
     },
     "metadata": {},
     "output_type": "display_data"
    },
    {
     "data": {
      "image/png": "[encoded data removed]",
      "text/plain": [
       "<Figure size 800x600 with 1 Axes>"
      ]
     },
     "metadata": {},
     "output_type": "display_data"
    }
   ],
   "source": [
    "import pandas as pd\n",
    "from sklearn.linear_model import LogisticRegression\n",
    "from sklearn.metrics import accuracy_score, confusion_matrix, roc_curve, auc\n",
    "import matplotlib.pyplot as plt\n",
    "import seaborn as sns\n",
    "\n",
    "X_train_final = pd.read_csv('X_train_processed_boruta.csv')\n",
    "y_train = pd.read_csv('y_train_processed.csv')['survived']  \n",
    "X_val_final = pd.read_csv('X_val_processed_boruta.csv')\n",
    "y_val = pd.read_csv('y_val_processed.csv')['survived']  \n",
    "\n",
    "lr_model = LogisticRegression(random_state=42, C=1, penalty='l2', solver='liblinear', class_weight='balanced')\n",
    "\n",
    "lr_model.fit(X_train_final, y_train)\n",
    "\n",
    "val_predictions = lr_model.predict(X_val_final)\n",
    "\n",
    "val_accuracy = accuracy_score(y_val, val_predictions)\n",
    "print(f\"Validation Accuracy: {val_accuracy:.4f}\")\n",
    "\n",
    "# Generate confusion matrix\n",
    "conf_matrix = confusion_matrix(y_val, val_predictions)\n",
    "print(\"\\nConfusion Matrix:\")\n",
    "print(conf_matrix)\n",
    "\n",
    "# I used AI to help me with the visual design the matrix\n",
    "# Plot confusion matrix\n",
    "plt.figure(figsize=(8, 6))\n",
    "sns.heatmap(conf_matrix, annot=True, fmt='d', cmap='Blues', xticklabels=['Not Survived', 'Survived'], yticklabels=['Not Survived', 'Survived'])\n",
    "plt.ylabel('Actual')\n",
    "plt.xlabel('Predicted')\n",
    "plt.title('Confusion Matrix')\n",
    "plt.show()\n",
    "\n",
    "\n",
    "# Confusion matrix\n",
    "y_val_prob = lr_model.predict_proba(X_val_final)[:, 1]  \n",
    "fpr, tpr, thresholds = roc_curve(y_val, y_val_prob)\n",
    "roc_auc = auc(fpr, tpr)\n",
    "\n",
    "# I used AI to help me with the visual design of the plot\n",
    "# ROC curve\n",
    "plt.figure(figsize=(8, 6))\n",
    "plt.plot(fpr, tpr, color='blue', label=f'ROC Curve (area = {roc_auc:.2f})')\n",
    "plt.plot([0, 1], [0, 1], color='red', linestyle='--')  # Diagonal line\n",
    "plt.xlim([0.0, 1.0])\n",
    "plt.ylim([0.0, 1.05])\n",
    "plt.xlabel('False Positive Rate')\n",
    "plt.ylabel('True Positive Rate')\n",
    "plt.title('Receiver Operating Characteristic (ROC) Curve')\n",
    "plt.legend(loc='lower right')\n",
    "plt.show()"
   ]
  },
  {
   "cell_type": "markdown",
   "metadata": {},
   "source": [
    "###### So overall after producing this model and following the tasks, I can conclude that performing EDA helps me to identify outliers which helps me to get a better understanding for further processing. Also it is crucial to ensure that the data is clean and tidy to produce an accurate and unbiased model. Encoding and scaling the features in my dataset helps in the data interpretability of my model, in addirion to handling imbalances and feature selection."
   ]
  }
 ],
 "metadata": {
  "kernelspec": {
   "display_name": "Python 3",
   "language": "python",
   "name": "python3"
  },
  "language_info": {
   "codemirror_mode": {
    "name": "ipython",
    "version": 3
   },
   "file_extension": ".py",
   "mimetype": "text/x-python",
   "name": "python",
   "nbconvert_exporter": "python",
   "pygments_lexer": "ipython3",
   "version": "3.12.3"
  }
 },
 "nbformat": 4,
 "nbformat_minor": 2
}
